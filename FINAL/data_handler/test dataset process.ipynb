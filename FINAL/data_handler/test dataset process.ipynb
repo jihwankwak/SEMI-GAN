{
 "cells": [
  {
   "cell_type": "code",
   "execution_count": 4,
   "metadata": {},
   "outputs": [],
   "source": [
    "import pandas as pd\n",
    "import numpy as np\n",
    "import os"
   ]
  },
  {
   "cell_type": "markdown",
   "metadata": {},
   "source": [
    "# File name\n",
    "### 저장하고자 하는 excel 파일 이름과 해당되는 조건 입력"
   ]
  },
  {
   "cell_type": "code",
   "execution_count": 5,
   "metadata": {},
   "outputs": [],
   "source": [
    "file_path = '2021_RDFWFV_20210107.xlsx'"
   ]
  },
  {
   "cell_type": "code",
   "execution_count": 6,
   "metadata": {},
   "outputs": [],
   "source": [
    "if file_path == '2021_RDFWFV_20210107.xlsx':\n",
    "    num_input = 6\n",
    "    one_hot = 3\n",
    "    num_output = 8\n",
    "    num_in_cycle = 250\n",
    "    num_of_cycle = [5, 5, 6]\n",
    "    num_total = 250*sum(num_of_cycle)\n",
    "    x_cols = \"A:F\"\n",
    "    y_cols = \"G:N\"\n",
    "    header = 0"
   ]
  },
  {
   "cell_type": "markdown",
   "metadata": {},
   "source": [
    "# Data save\n",
    "### 동일한 폴더에 .npy가 저장됨"
   ]
  },
  {
   "cell_type": "code",
   "execution_count": null,
   "metadata": {},
   "outputs": [],
   "source": [
    "print(num_total)\n",
    "\n",
    "data_x = pd.read_excel('../'+file_path, sheet_name='Sheet1', usecols=x_cols, nrows=num_total+1, header=header)\n",
    "data_y = pd.read_excel('../'+file_path, sheet_name='Sheet1', usecols=y_cols, nrows=num_total+1, header=header)\n",
    "\n",
    "# one-hot encoding (나중에 1, 0 을 인위적으로 넣어주기)\n",
    "X_all , Y_all = np.zeros((num_total, num_input)), np.zeros((num_total, num_output))\n",
    "X_per_cycle, Y_per_cycle = np.zeros((sum(num_of_cycle), num_input)), np.zeros((sum(num_of_cycle), num_output))\n",
    "\n",
    "# DATA_X DATA_Y preprocessing\n",
    "\n",
    "X_all = data_x.values\n",
    "Y_all = data_y.values\n",
    "\n",
    "# X_per_cycle\n",
    "\n",
    "for i in range(sum(num_of_cycle)):\n",
    "    X_per_cycle[i] = X_all[num_in_cycle*i: num_in_cycle*i+1]\n",
    "    Y_per_cycle[i] = np.mean(Y_all[num_in_cycle*i: num_in_cycle*(i+1)])\n",
    "\n",
    "print(\"============ Data load =============\")\n",
    "\n",
    "print(\"X data shape: \", X_all.shape, \"X per cycle data shape:\", X_per_cycle.shape)\n",
    "print(\"Y data shape: \", Y_all.shape, \"Y per cycle data shape:\", Y_per_cycle.shape)  \n",
    "print(\"any nan in X?: \", np.argwhere(np.isnan(X_all)))\n",
    "print(\"any nan in Y?: \", np.argwhere(np.isnan(Y_all)))  \n",
    "\n",
    "print(\"============ Data save =============\")\n",
    "    \n",
    "data = []\n",
    "data.append(X_all)\n",
    "data.append(Y_all)\n",
    "data.append(X_per_cycle)\n",
    "data.append(Y_per_cycle)\n",
    "    \n",
    "data = np.array(data)\n",
    "\n",
    "print(\"data : data_all\")\n",
    "print(\"[saved] X data : ({},{}) X per cycle data shape : ({},{})\".format(len(data[0]), len(data[0][0]), len(data[2]), len(data[2][0])))                                                                  \n",
    "print(\"[saved] Y data : ({},{}) Y per cycle data shape : ({},{})\".format(len(data[1]), len(data[1][0]), len(data[3]), len(data[3][0])))  \n",
    "np.save('./'+file_path, data)"
   ]
  },
  {
   "cell_type": "markdown",
   "metadata": {},
   "source": [
    "# Data load\n",
    "### 저장한 .npy를 불러서 잘 저장했는지 확인"
   ]
  },
  {
   "cell_type": "code",
   "execution_count": null,
   "metadata": {},
   "outputs": [],
   "source": [
    "# 검증의 시간\n",
    "\n",
    "data = np.load(file_path+'.npy', allow_pickle=True)\n",
    "    \n",
    "X_all, Y_all, X_per_cycle, Y_per_cycle = data[0], data[1], data[2], data[3]\n",
    "\n",
    "print(data[0].shape, data[1].shape, data[2].shape, data[3].shape)\n",
    "\n",
    "for i in range(len(Y_all)):\n",
    "    print(Y_all[i])"
   ]
  }
 ],
 "metadata": {
  "kernelspec": {
   "display_name": "Python 3",
   "language": "python",
   "name": "python3"
  },
  "language_info": {
   "codemirror_mode": {
    "name": "ipython",
    "version": 3
   },
   "file_extension": ".py",
   "mimetype": "text/x-python",
   "name": "python",
   "nbconvert_exporter": "python",
   "pygments_lexer": "ipython3",
   "version": "3.7.6"
  }
 },
 "nbformat": 4,
 "nbformat_minor": 4
}
