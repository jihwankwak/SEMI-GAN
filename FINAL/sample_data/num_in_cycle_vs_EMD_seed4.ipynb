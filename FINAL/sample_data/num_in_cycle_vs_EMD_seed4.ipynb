{
 "cells": [
  {
   "cell_type": "code",
   "execution_count": 1,
   "metadata": {},
   "outputs": [],
   "source": [
    "import os\n",
    "import numpy as np\n",
    "import matplotlib.pyplot as plt\n",
    "import scipy.io as sio\n",
    "import pandas as pd\n",
    "import seaborn as sns\n",
    "from pandas import ExcelWriter\n",
    "from pandas import ExcelFile\n",
    "import sample_utils\n",
    "\n",
    "%matplotlib inline"
   ]
  },
  {
   "cell_type": "code",
   "execution_count": 2,
   "metadata": {},
   "outputs": [],
   "source": [
    "seed = 4\n",
    "np.random.seed(seed)"
   ]
  },
  {
   "cell_type": "markdown",
   "metadata": {},
   "source": [
    "# TRUE DATA"
   ]
  },
  {
   "cell_type": "code",
   "execution_count": 3,
   "metadata": {},
   "outputs": [
    {
     "name": "stdout",
     "output_type": "stream",
     "text": [
      "(2056, 5) (2056, 6) (8, 5) (8, 6)\n",
      "\n",
      "!! check !! test real shape (2056, 6)\n",
      "!! check !! X value ( especially its precision )\n",
      "\n",
      "[  0.62484672  17.00743225 173.85718891   1.           0.        ]\n",
      "[ 0.55654727 80.91905766 80.56986979  1.          0.        ]\n",
      "[ 0.50466944 48.62398816 67.99380535  1.          0.        ]\n",
      "[ 0.56045148 25.42868151 69.39740975  1.          0.        ]\n",
      "[ 0.63730798 69.14860261 65.33037708  1.          0.        ]\n",
      "[ 0.15273618 23.32639122 51.25326965  1.          0.        ]\n",
      "[ 0.25925637 78.12653757 28.08679576  1.          0.        ]\n",
      "[1.41144023e-01 9.67099798e+01 1.86683747e+02 1.00000000e+00\n",
      " 0.00000000e+00]\n"
     ]
    }
   ],
   "source": [
    "file_path = '2020_LER_20201021_testset.xlsx'\n",
    "\n",
    "data = np.load('../data_handler/'+file_path+'.npy', allow_pickle=True)\n",
    "num_in_cycle = [232, 289, 277, 253, 255, 250, 250, 250] \n",
    "num_of_cycle = 8\n",
    "    \n",
    "X_all, Y_all, X_per_cycle, Y_per_cycle = data[0], data[1], data[2], data[3]\n",
    "print(data[0].shape, data[1].shape, data[2].shape, data[3].shape)\n",
    "print()\n",
    "test_real = Y_all\n",
    "\n",
    "# for pair plot indexing\n",
    "test_X_cycle = X_per_cycle\n",
    "\n",
    "y_mean = np.mean(Y_all, axis=0, dtype=np.float32)\n",
    "y_std = np.std(Y_all, axis=0, dtype=np.float32)\n",
    "\n",
    "print(\"!! check !! test real shape\", test_real.shape)\n",
    "print(\"!! check !! X value ( especially its precision )\")\n",
    "print()\n",
    "for i in range(num_of_cycle):\n",
    "    print(test_X_cycle[i])"
   ]
  },
  {
   "cell_type": "markdown",
   "metadata": {},
   "source": [
    "# GENERATED DATA\n",
    "### Please put your sampled data file(in .npy) in the same directory"
   ]
  },
  {
   "cell_type": "code",
   "execution_count": 4,
   "metadata": {},
   "outputs": [
    {
     "name": "stdout",
     "output_type": "stream",
     "text": [
      "test data sample num 250\n",
      "test data shape (2000, 6)\n"
     ]
    }
   ],
   "source": [
    "########################################  CHANGE HERE ####################################################################\n",
    "\n",
    "result = 'date_gan1_default_data_2020_LER_20201008_V008.xlsx_model_mlp_gan1_seed_0_lr_5e-05_0.0001_0.0005_hidden_dim_100_100_batch_size_25_noise_d_100_sample_num_50_tr_num_in_cycle_50_pdrop_0.9.npy'\n",
    "\n",
    "##########################################################################################################################\n",
    "\n",
    "test_gen = np.load(result, allow_pickle=True)\n",
    "\n",
    "test_gen = test_gen[:2000]\n",
    "num_of_cycle = 8\n",
    "\n",
    "\n",
    "test_gen_sample_num = int(test_gen.shape[0]/num_of_cycle)\n",
    "\n",
    "print(\"test data sample num\", test_gen_sample_num)\n",
    "print(\"test data shape\", test_gen.shape)\n"
   ]
  },
  {
   "cell_type": "code",
   "execution_count": 5,
   "metadata": {},
   "outputs": [
    {
     "data": {
      "text/plain": [
       "array([[1.88756008e-12, 4.11835988e-05, 1.58772155e-05, 3.47123559e-01,\n",
       "        3.53662675e-01, 6.16376248e+01],\n",
       "       [1.91463481e-12, 4.09281521e-05, 1.59583234e-05, 3.46339578e-01,\n",
       "        3.53378909e-01, 6.16259660e+01],\n",
       "       [2.19130526e-12, 4.16012509e-05, 1.62101581e-05, 3.44237070e-01,\n",
       "        3.51794636e-01, 6.17701731e+01],\n",
       "       ...,\n",
       "       [1.69801692e-12, 3.83019263e-05, 1.51729025e-05, 3.49619979e-01,\n",
       "        3.55512984e-01, 6.15209879e+01],\n",
       "       [2.29471176e-12, 4.01901669e-05, 1.55898536e-05, 3.41579100e-01,\n",
       "        3.49957861e-01, 6.16574734e+01],\n",
       "       [2.59805785e-12, 4.19248186e-05, 1.60718361e-05, 3.38801412e-01,\n",
       "        3.47185357e-01, 6.18232545e+01]])"
      ]
     },
     "execution_count": 5,
     "metadata": {},
     "output_type": "execute_result"
    }
   ],
   "source": [
    "test_gen"
   ]
  },
  {
   "cell_type": "code",
   "execution_count": null,
   "metadata": {},
   "outputs": [],
   "source": []
  },
  {
   "cell_type": "markdown",
   "metadata": {},
   "source": [
    "# EMD pdf"
   ]
  },
  {
   "cell_type": "code",
   "execution_count": 6,
   "metadata": {},
   "outputs": [],
   "source": [
    "# # EMD  \n",
    "\n",
    "# EMD_1d_score_list, EMD_2d_score_list = sample_utils.EMD_all_pair_each_X_pdf(generated_samples = test_gen, real_samples = test_real, num_coordinate=10, num_of_cycle=num_of_cycle, num_in_gen_list=[test_gen_sample_num]*num_of_cycle, num_in_real_list = num_in_cycle) \n",
    "\n",
    "# print(EMD_1d_score_list.shape)\n",
    "# print(EMD_2d_score_list.shape)\n",
    "\n",
    "# EMD_score_cat = np.hstack((EMD_1d_score_list, EMD_2d_score_list))\n",
    "\n",
    "# EMD_score = np.mean(EMD_score_cat)\n",
    "# EMD_score_list_pdf = np.mean(EMD_score_cat,axis=1)\n",
    "# EMD_std = np.sqrt(np.mean((EMD_score - EMD_score_list_pdf)**2))\n",
    "\n",
    "# for i in range(len(EMD_score_list_pdf)):\n",
    "#     print(\"EMD_score for each X factor {} \\t score {:5f} \\t dev {:5f}\".format(i, EMD_score_list_pdf[i], (EMD_score_list_pdf[i]-EMD_score)/EMD_std))\n",
    "# # A: Ioff, B: IDSat, C: IDlin, D: VTsat, E:VTlin, F:SS, G: classs\n",
    "\n",
    "# EMD_score_list = np.array(EMD_score_list_pdf)\n",
    " \n",
    "# print(\"EMD argsort: \", EMD_score_list.argsort())\n",
    "\n",
    "\n"
   ]
  },
  {
   "cell_type": "code",
   "execution_count": null,
   "metadata": {},
   "outputs": [],
   "source": []
  },
  {
   "cell_type": "markdown",
   "metadata": {},
   "source": [
    "# EMD integral"
   ]
  },
  {
   "cell_type": "code",
   "execution_count": 7,
   "metadata": {},
   "outputs": [],
   "source": [
    "# # EMD  \n",
    "\n",
    "# EMD_1d_score_list, EMD_2d_score_list = sample_utils.EMD_all_pair_each_X_integral(generated_samples = test_gen, real_samples = test_real, num_coordinate=10, num_of_cycle=num_of_cycle, num_in_gen_list=[test_gen_sample_num]*num_of_cycle, num_in_real_list = num_in_cycle) \n",
    "\n",
    "# print(EMD_1d_score_list.shape)\n",
    "# print(EMD_2d_score_list.shape)\n",
    "\n",
    "# EMD_score_cat = np.hstack((EMD_1d_score_list, EMD_2d_score_list))\n",
    "\n",
    "# EMD_score = np.mean(EMD_score_cat)\n",
    "# EMD_score_list_integral = np.mean(EMD_score_cat,axis=1)\n",
    "# EMD_std = np.sqrt(np.mean((EMD_score - EMD_score_list_integral)**2))\n",
    "\n",
    "# for i in range(len(EMD_score_list_integral)):\n",
    "#     print(\"EMD_score for each X factor {} \\t score {:5f} \\t dev {:5f}\".format(i, EMD_score_list_integral[i], (EMD_score_list_integral[i]-EMD_score)/EMD_std))\n",
    "# # A: Ioff, B: IDSat, C: IDlin, D: VTsat, E:VTlin, F:SS, G: classs\n",
    "\n",
    "# EMD_score_list = np.array(EMD_score_list_integral)\n",
    " \n",
    "# print(\"EMD argsort: \", EMD_score_list.argsort())"
   ]
  },
  {
   "cell_type": "code",
   "execution_count": 8,
   "metadata": {},
   "outputs": [],
   "source": [
    "def EMD_true_vs_true(test_real, num_of_cycle, num_in_cycle, num_in_cycle_sub_1, num_in_cycle_sub_2, verbose=False):\n",
    "\n",
    "    cumul = 0\n",
    "    test_real_split = []\n",
    "    for i in range(num_of_cycle):\n",
    "        test_real_split.append(test_real[cumul:cumul+num_in_cycle[i]])\n",
    "        cumul += num_in_cycle[i]\n",
    "\n",
    "\n",
    "    #num_in_cycle_sub_1 = 25\n",
    "    num_in_real_list_sub_1 = [num_in_cycle_sub_1]*num_of_cycle\n",
    "    test_real_split_sub_1 = []\n",
    "    for i in range(num_of_cycle):\n",
    "        sub_1_index = np.random.choice(num_in_cycle[i], num_in_cycle_sub_1, replace=False)\n",
    "        test_real_split_sub_1.append(test_real_split[i][sub_1_index])\n",
    "    test_real_sub_1 = np.concatenate(np.array(test_real_split_sub_1))\n",
    "\n",
    "\n",
    "    #num_in_cycle_sub_2 = 25\n",
    "    num_in_real_list_sub_2 = [num_in_cycle_sub_2]*num_of_cycle\n",
    "    test_real_split_sub_2 = []\n",
    "    for i in range(num_of_cycle):\n",
    "        sub_2_index = np.random.choice(num_in_cycle[i], num_in_cycle_sub_2, replace=False)\n",
    "        test_real_split_sub_2.append(test_real_split[i][sub_2_index])\n",
    "    test_real_sub_2 = np.concatenate(np.array(test_real_split_sub_2))\n",
    "    \n",
    "\n",
    "    \n",
    "    # EMD  \n",
    "    EMD_1d_score_list, EMD_2d_score_list = sample_utils.EMD_all_pair_each_X_integral(generated_samples = test_real_sub_1, real_samples = test_real_sub_2, num_coordinate=10, num_of_cycle=num_of_cycle, num_in_gen_list=num_in_real_list_sub_1, num_in_real_list = num_in_real_list_sub_2) \n",
    "\n",
    "    print(EMD_1d_score_list.shape)\n",
    "    print(EMD_2d_score_list.shape)\n",
    "\n",
    "    EMD_score_cat = np.hstack((EMD_1d_score_list, EMD_2d_score_list))\n",
    "\n",
    "    EMD_score = np.mean(EMD_score_cat)\n",
    "    EMD_score_list_integral = np.mean(EMD_score_cat,axis=1)\n",
    "    EMD_std = np.sqrt(np.mean((EMD_score - EMD_score_list_integral)**2))\n",
    "\n",
    "    for i in range(len(EMD_score_list_integral)):        \n",
    "        print(\"EMD_score for each X factor {} \\t score {:5f} \\t dev {:5f}\".format(i, EMD_score_list_integral[i], (EMD_score_list_integral[i]-EMD_score)/EMD_std))\n",
    "    # A: Ioff, B: IDSat, C: IDlin, D: VTsat, E:VTlin, F:SS, G: classs\n",
    "\n",
    "    EMD_score_list = np.array(EMD_score_list_integral)\n",
    "\n",
    "    print(\"EMD argsort: \", EMD_score_list.argsort())\n",
    "    \n",
    "    return EMD_score_list\n",
    "\n",
    "\n",
    "\n",
    "\n",
    "\n",
    "def EMD_fake_vs_true(test_gen, test_real, num_of_cycle, num_in_cycle, num_in_cycle_sub_1, num_in_cycle_sub_2, test_gen_sample_num):\n",
    "\n",
    "    cumul = 0\n",
    "    cumul_gen = 0\n",
    "    test_real_split = []\n",
    "    test_gen_split = []\n",
    "    for i in range(num_of_cycle):\n",
    "        test_real_split.append(test_real[cumul:cumul+num_in_cycle[i]])\n",
    "        test_gen_split.append(test_gen[cumul_gen:cumul_gen+test_gen_sample_num])\n",
    "        cumul += num_in_cycle[i]\n",
    "        cumul_gen += test_gen_sample_num\n",
    "\n",
    "    #num_in_cycle_sub_1 = 25\n",
    "    num_in_gen_list_sub_1 = [num_in_cycle_sub_1]*num_of_cycle\n",
    "    test_gen_split_sub_1 = []\n",
    "    for i in range(num_of_cycle):\n",
    "        sub_1_index = np.random.choice(test_gen_sample_num, num_in_cycle_sub_1, replace=False)\n",
    "        test_gen_split_sub_1.append(test_gen_split[i][sub_1_index])\n",
    "    test_gen_sub_1 = np.concatenate(np.array(test_gen_split_sub_1))\n",
    "\n",
    "\n",
    "    #num_in_cycle_sub_2 = 25\n",
    "    num_in_real_list_sub_2 = [num_in_cycle_sub_2]*num_of_cycle\n",
    "    test_real_split_sub_2 = []\n",
    "    for i in range(num_of_cycle):\n",
    "        sub_2_index = np.random.choice(num_in_cycle[i], num_in_cycle_sub_2, replace=False)\n",
    "        test_real_split_sub_2.append(test_real_split[i][sub_2_index])\n",
    "    test_real_sub_2 = np.concatenate(np.array(test_real_split_sub_2))\n",
    "    \n",
    "    \n",
    "    \n",
    "    \n",
    "    # EMD  \n",
    "    EMD_1d_score_list, EMD_2d_score_list = sample_utils.EMD_all_pair_each_X_integral(generated_samples = test_gen_sub_1, real_samples = test_real_sub_2, num_coordinate=10, num_of_cycle=num_of_cycle, num_in_gen_list=num_in_gen_list_sub_1, num_in_real_list = num_in_real_list_sub_2) \n",
    "\n",
    "    print(EMD_1d_score_list.shape)\n",
    "    print(EMD_2d_score_list.shape)\n",
    "\n",
    "    EMD_score_cat = np.hstack((EMD_1d_score_list, EMD_2d_score_list))\n",
    "\n",
    "    EMD_score = np.mean(EMD_score_cat)\n",
    "    EMD_score_list_integral = np.mean(EMD_score_cat,axis=1)\n",
    "    EMD_std = np.sqrt(np.mean((EMD_score - EMD_score_list_integral)**2))\n",
    "\n",
    "    for i in range(len(EMD_score_list_integral)):\n",
    "        print(\"EMD_score for each X factor {} \\t score {:5f} \\t dev {:5f}\".format(i, EMD_score_list_integral[i], (EMD_score_list_integral[i]-EMD_score)/EMD_std))\n",
    "    # A: Ioff, B: IDSat, C: IDlin, D: VTsat, E:VTlin, F:SS, G: classs\n",
    "\n",
    "    EMD_score_list = np.array(EMD_score_list_integral)\n",
    "\n",
    "    print(\"EMD argsort: \", EMD_score_list.argsort())\n",
    "    \n",
    "    return EMD_score_list"
   ]
  },
  {
   "cell_type": "code",
   "execution_count": 9,
   "metadata": {},
   "outputs": [],
   "source": [
    "np.set_printoptions(linewidth=1000)"
   ]
  },
  {
   "cell_type": "code",
   "execution_count": 10,
   "metadata": {},
   "outputs": [
    {
     "name": "stdout",
     "output_type": "stream",
     "text": [
      "(8, 6)\n",
      "(8, 15)\n",
      "EMD_score for each X factor 0 \t score 0.212807 \t dev -0.410817\n",
      "EMD_score for each X factor 1 \t score 0.163140 \t dev -0.897896\n",
      "EMD_score for each X factor 2 \t score 0.102379 \t dev -1.493767\n",
      "EMD_score for each X factor 3 \t score 0.173375 \t dev -0.797519\n",
      "EMD_score for each X factor 4 \t score 0.420016 \t dev 1.621256\n",
      "EMD_score for each X factor 5 \t score 0.354748 \t dev 0.981183\n",
      "EMD_score for each X factor 6 \t score 0.324482 \t dev 0.684365\n",
      "EMD_score for each X factor 7 \t score 0.286634 \t dev 0.313195\n",
      "EMD argsort:  [2 1 3 0 7 6 5 4]\n"
     ]
    },
    {
     "data": {
      "text/plain": [
       "array([0.21280667, 0.16313958, 0.10237899, 0.17337489, 0.42001566, 0.35474791, 0.32448155, 0.28663361])"
      ]
     },
     "execution_count": 10,
     "metadata": {},
     "output_type": "execute_result"
    }
   ],
   "source": [
    "EMD_true_vs_true(test_real, num_of_cycle, num_in_cycle, num_in_cycle_sub_1=25, num_in_cycle_sub_2=25)"
   ]
  },
  {
   "cell_type": "code",
   "execution_count": 11,
   "metadata": {},
   "outputs": [
    {
     "name": "stdout",
     "output_type": "stream",
     "text": [
      "(8, 6)\n",
      "(8, 15)\n",
      "EMD_score for each X factor 0 \t score 0.475132 \t dev -0.437784\n",
      "EMD_score for each X factor 1 \t score 0.312186 \t dev -1.077449\n",
      "EMD_score for each X factor 2 \t score 0.385061 \t dev -0.791368\n",
      "EMD_score for each X factor 3 \t score 0.303539 \t dev -1.111393\n",
      "EMD_score for each X factor 4 \t score 0.566002 \t dev -0.081063\n",
      "EMD_score for each X factor 5 \t score 0.710041 \t dev 0.484383\n",
      "EMD_score for each X factor 6 \t score 0.975270 \t dev 1.525570\n",
      "EMD_score for each X factor 7 \t score 0.965981 \t dev 1.489104\n",
      "EMD argsort:  [3 1 2 0 4 5 7 6]\n"
     ]
    },
    {
     "data": {
      "text/plain": [
       "array([0.47513161, 0.31218551, 0.38506088, 0.30353875, 0.56600152, 0.71004142, 0.9752698 , 0.96598065])"
      ]
     },
     "execution_count": 11,
     "metadata": {},
     "output_type": "execute_result"
    }
   ],
   "source": [
    "EMD_fake_vs_true(test_gen, test_real, num_of_cycle, num_in_cycle, num_in_cycle_sub_1=25, num_in_cycle_sub_2=25, test_gen_sample_num=test_gen_sample_num)"
   ]
  },
  {
   "cell_type": "code",
   "execution_count": 12,
   "metadata": {},
   "outputs": [
    {
     "data": {
      "text/plain": [
       "[232, 289, 277, 253, 255, 250, 250, 250]"
      ]
     },
     "execution_count": 12,
     "metadata": {},
     "output_type": "execute_result"
    }
   ],
   "source": [
    "num_in_cycle"
   ]
  },
  {
   "cell_type": "code",
   "execution_count": 13,
   "metadata": {},
   "outputs": [
    {
     "name": "stdout",
     "output_type": "stream",
     "text": [
      "i 0\n",
      "(8, 6)\n",
      "(8, 15)\n",
      "EMD_score for each X factor 0 \t score 0.307627 \t dev -0.419749\n",
      "EMD_score for each X factor 1 \t score 0.242896 \t dev -0.473737\n",
      "EMD_score for each X factor 2 \t score 0.546252 \t dev -0.220730\n",
      "EMD_score for each X factor 3 \t score 0.206185 \t dev -0.504354\n",
      "EMD_score for each X factor 4 \t score 3.964199 \t dev 2.629926\n",
      "EMD_score for each X factor 5 \t score 0.499895 \t dev -0.259393\n",
      "EMD_score for each X factor 6 \t score 0.213822 \t dev -0.497984\n",
      "EMD_score for each X factor 7 \t score 0.506386 \t dev -0.253979\n",
      "EMD argsort:  [3 6 1 0 5 7 2 4]\n",
      "i 1\n",
      "(8, 6)\n",
      "(8, 15)\n",
      "EMD_score for each X factor 0 \t score 0.148088 \t dev -2.221761\n",
      "EMD_score for each X factor 1 \t score 0.319477 \t dev 0.332669\n",
      "EMD_score for each X factor 2 \t score 0.289849 \t dev -0.108921\n",
      "EMD_score for each X factor 3 \t score 0.323016 \t dev 0.385415\n",
      "EMD_score for each X factor 4 \t score 0.359403 \t dev 0.927738\n",
      "EMD_score for each X factor 5 \t score 0.293658 \t dev -0.052145\n",
      "EMD_score for each X factor 6 \t score 0.260797 \t dev -0.541909\n",
      "EMD_score for each X factor 7 \t score 0.382965 \t dev 1.278913\n",
      "EMD argsort:  [0 6 2 5 1 3 4 7]\n",
      "i 2\n",
      "(8, 6)\n",
      "(8, 15)\n",
      "EMD_score for each X factor 0 \t score 0.461305 \t dev 1.614954\n",
      "EMD_score for each X factor 1 \t score 0.221770 \t dev -0.653220\n",
      "EMD_score for each X factor 2 \t score 0.407700 \t dev 1.107365\n",
      "EMD_score for each X factor 3 \t score 0.131052 \t dev -1.512230\n",
      "EMD_score for each X factor 4 \t score 0.236326 \t dev -0.515389\n",
      "EMD_score for each X factor 5 \t score 0.240512 \t dev -0.475748\n",
      "EMD_score for each X factor 6 \t score 0.383173 \t dev 0.875114\n",
      "EMD_score for each X factor 7 \t score 0.244198 \t dev -0.440846\n",
      "EMD argsort:  [3 1 4 5 7 6 2 0]\n",
      "i 3\n",
      "(8, 6)\n",
      "(8, 15)\n",
      "EMD_score for each X factor 0 \t score 0.172608 \t dev -0.451149\n",
      "EMD_score for each X factor 1 \t score 0.193576 \t dev -0.292534\n",
      "EMD_score for each X factor 2 \t score 0.152062 \t dev -0.606570\n",
      "EMD_score for each X factor 3 \t score 0.287428 \t dev 0.417421\n",
      "EMD_score for each X factor 4 \t score 0.559293 \t dev 2.473979\n",
      "EMD_score for each X factor 5 \t score 0.205538 \t dev -0.202045\n",
      "EMD_score for each X factor 6 \t score 0.112631 \t dev -0.904851\n",
      "EMD_score for each X factor 7 \t score 0.174842 \t dev -0.434250\n",
      "EMD argsort:  [6 2 0 7 1 5 3 4]\n",
      "i 4\n",
      "(8, 6)\n",
      "(8, 15)\n",
      "EMD_score for each X factor 0 \t score 0.205723 \t dev 1.644302\n",
      "EMD_score for each X factor 1 \t score 0.142009 \t dev -0.163201\n",
      "EMD_score for each X factor 2 \t score 0.155181 \t dev 0.210482\n",
      "EMD_score for each X factor 3 \t score 0.140863 \t dev -0.195704\n",
      "EMD_score for each X factor 4 \t score 0.186673 \t dev 1.103866\n",
      "EMD_score for each X factor 5 \t score 0.120158 \t dev -0.783091\n",
      "EMD_score for each X factor 6 \t score 0.148292 \t dev 0.015028\n",
      "EMD_score for each X factor 7 \t score 0.083196 \t dev -1.831681\n",
      "EMD argsort:  [7 5 3 1 6 2 4 0]\n",
      "i 5\n",
      "(8, 6)\n",
      "(8, 15)\n",
      "EMD_score for each X factor 0 \t score 0.076247 \t dev -1.061541\n",
      "EMD_score for each X factor 1 \t score 0.173335 \t dev 1.362114\n",
      "EMD_score for each X factor 2 \t score 0.091856 \t dev -0.671881\n",
      "EMD_score for each X factor 3 \t score 0.075459 \t dev -1.081220\n",
      "EMD_score for each X factor 4 \t score 0.157121 \t dev 0.957363\n",
      "EMD_score for each X factor 5 \t score 0.074836 \t dev -1.096752\n",
      "EMD_score for each X factor 6 \t score 0.147711 \t dev 0.722445\n",
      "EMD_score for each X factor 7 \t score 0.153600 \t dev 0.869471\n",
      "EMD argsort:  [5 3 0 2 6 7 4 1]\n",
      "i 6\n",
      "(8, 6)\n",
      "(8, 15)\n",
      "EMD_score for each X factor 0 \t score 0.062900 \t dev -0.803383\n",
      "EMD_score for each X factor 1 \t score 0.090835 \t dev 0.373834\n",
      "EMD_score for each X factor 2 \t score 0.071136 \t dev -0.456291\n",
      "EMD_score for each X factor 3 \t score 0.083037 \t dev 0.045232\n",
      "EMD_score for each X factor 4 \t score 0.091253 \t dev 0.391443\n",
      "EMD_score for each X factor 5 \t score 0.072018 \t dev -0.419126\n",
      "EMD_score for each X factor 6 \t score 0.134377 \t dev 2.208789\n",
      "EMD_score for each X factor 7 \t score 0.050155 \t dev -1.340498\n",
      "EMD argsort:  [7 0 2 5 3 1 4 6]\n",
      "i 7\n",
      "(8, 6)\n",
      "(8, 15)\n",
      "EMD_score for each X factor 0 \t score 0.039193 \t dev -0.880385\n",
      "EMD_score for each X factor 1 \t score 0.122990 \t dev 1.501980\n",
      "EMD_score for each X factor 2 \t score 0.107099 \t dev 1.050191\n",
      "EMD_score for each X factor 3 \t score 0.040795 \t dev -0.834840\n",
      "EMD_score for each X factor 4 \t score 0.030582 \t dev -1.125203\n",
      "EMD_score for each X factor 5 \t score 0.034947 \t dev -1.001122\n",
      "EMD_score for each X factor 6 \t score 0.099395 \t dev 0.831165\n",
      "EMD_score for each X factor 7 \t score 0.086277 \t dev 0.458214\n",
      "EMD argsort:  [4 5 0 3 7 6 2 1]\n",
      "i 8\n",
      "(8, 6)\n",
      "(8, 15)\n",
      "EMD_score for each X factor 0 \t score 0.002747 \t dev -1.481747\n",
      "EMD_score for each X factor 1 \t score 0.081555 \t dev 2.356518\n",
      "EMD_score for each X factor 2 \t score 0.031855 \t dev -0.064064\n",
      "EMD_score for each X factor 3 \t score 0.032267 \t dev -0.044016\n",
      "EMD_score for each X factor 4 \t score 0.032664 \t dev -0.024656\n",
      "EMD_score for each X factor 5 \t score 0.027675 \t dev -0.267627\n",
      "EMD_score for each X factor 6 \t score 0.024730 \t dev -0.411052\n",
      "EMD_score for each X factor 7 \t score 0.031870 \t dev -0.063356\n",
      "EMD argsort:  [0 6 5 2 7 3 4 1]\n"
     ]
    }
   ],
   "source": [
    "true_vs_true_search_range = [5, 10, 25, 50, 75, 100, 125, 200, 230]\n",
    "true_vs_true_EMDs_set = np.zeros((len(true_vs_true_search_range),num_of_cycle))\n",
    "for i in range(len(true_vs_true_search_range)) :\n",
    "    print('i',i)\n",
    "    num_in_cycle_sub = true_vs_true_search_range[i]\n",
    "    true_vs_true_EMDs_set[i] = EMD_true_vs_true(test_real, num_of_cycle, num_in_cycle, num_in_cycle_sub_1=num_in_cycle_sub, num_in_cycle_sub_2=num_in_cycle_sub)"
   ]
  },
  {
   "cell_type": "code",
   "execution_count": 14,
   "metadata": {},
   "outputs": [
    {
     "name": "stdout",
     "output_type": "stream",
     "text": [
      "[[3.07626686e-01 2.42895501e-01 5.46251787e-01 2.06185467e-01 3.96419939e+00 4.99894562e-01 2.13822332e-01 5.06385815e-01]\n",
      " [1.48087742e-01 3.19477116e-01 2.89848656e-01 3.23016114e-01 3.59403226e-01 2.93657999e-01 2.60797318e-01 3.82965326e-01]\n",
      " [4.61305218e-01 2.21769631e-01 4.07700162e-01 1.31051901e-01 2.36325595e-01 2.40512004e-01 3.83172750e-01 2.44197909e-01]\n",
      " [1.72608013e-01 1.93576069e-01 1.52062276e-01 2.87428046e-01 5.59293435e-01 2.05538114e-01 1.12631118e-01 1.74841966e-01]\n",
      " [2.05722906e-01 1.42009136e-01 1.55181313e-01 1.40863413e-01 1.86672757e-01 1.20158288e-01 1.48291642e-01 8.31958786e-02]\n",
      " [7.62468987e-02 1.73334723e-01 9.18560638e-02 7.54585820e-02 1.57121043e-01 7.48363983e-02 1.47710582e-01 1.53600200e-01]\n",
      " [6.29001516e-02 9.08346808e-02 7.11363985e-02 8.30371890e-02 9.12525315e-02 7.20182859e-02 1.34376880e-01 5.01547825e-02]\n",
      " [3.91934021e-02 1.22989513e-01 1.07098523e-01 4.07953564e-02 3.05822910e-02 3.49466541e-02 9.93946102e-02 8.62766091e-02]\n",
      " [2.74661916e-03 8.15552237e-02 3.18549766e-02 3.22666191e-02 3.26641118e-02 2.76753537e-02 2.47304978e-02 3.18695266e-02]]\n"
     ]
    }
   ],
   "source": [
    "print(true_vs_true_EMDs_set)"
   ]
  },
  {
   "cell_type": "code",
   "execution_count": 22,
   "metadata": {},
   "outputs": [
    {
     "data": {
      "text/plain": [
       "array([[3.07626686e-01, 2.42895501e-01, 5.46251787e-01, 2.06185467e-01, 3.96419939e+00, 4.99894562e-01, 2.13822332e-01, 5.06385815e-01],\n",
       "       [1.48087742e-01, 3.19477116e-01, 2.89848656e-01, 3.23016114e-01, 3.59403226e-01, 2.93657999e-01, 2.60797318e-01, 3.82965326e-01],\n",
       "       [4.61305218e-01, 2.21769631e-01, 4.07700162e-01, 1.31051901e-01, 2.36325595e-01, 2.40512004e-01, 3.83172750e-01, 2.44197909e-01],\n",
       "       [1.72608013e-01, 1.93576069e-01, 1.52062276e-01, 2.87428046e-01, 5.59293435e-01, 2.05538114e-01, 1.12631118e-01, 1.74841966e-01],\n",
       "       [2.05722906e-01, 1.42009136e-01, 1.55181313e-01, 1.40863413e-01, 1.86672757e-01, 1.20158288e-01, 1.48291642e-01, 8.31958786e-02],\n",
       "       [7.62468987e-02, 1.73334723e-01, 9.18560638e-02, 7.54585820e-02, 1.57121043e-01, 7.48363983e-02, 1.47710582e-01, 1.53600200e-01],\n",
       "       [6.29001516e-02, 9.08346808e-02, 7.11363985e-02, 8.30371890e-02, 9.12525315e-02, 7.20182859e-02, 1.34376880e-01, 5.01547825e-02],\n",
       "       [3.91934021e-02, 1.22989513e-01, 1.07098523e-01, 4.07953564e-02, 3.05822910e-02, 3.49466541e-02, 9.93946102e-02, 8.62766091e-02],\n",
       "       [2.74661916e-03, 8.15552237e-02, 3.18549766e-02, 3.22666191e-02, 3.26641118e-02, 2.76753537e-02, 2.47304978e-02, 3.18695266e-02]])"
      ]
     },
     "execution_count": 22,
     "metadata": {},
     "output_type": "execute_result"
    }
   ],
   "source": [
    "true_vs_true_EMDs_set"
   ]
  },
  {
   "cell_type": "code",
   "execution_count": 15,
   "metadata": {},
   "outputs": [
    {
     "name": "stdout",
     "output_type": "stream",
     "text": [
      "i 0\n",
      "(8, 6)\n",
      "(8, 15)\n",
      "EMD_score for each X factor 0 \t score 0.164960 \t dev -1.103715\n",
      "EMD_score for each X factor 1 \t score 0.379895 \t dev -0.597159\n",
      "EMD_score for each X factor 2 \t score 1.381269 \t dev 1.762872\n",
      "EMD_score for each X factor 3 \t score 0.247548 \t dev -0.909073\n",
      "EMD_score for each X factor 4 \t score 0.521778 \t dev -0.262768\n",
      "EMD_score for each X factor 5 \t score 1.144381 \t dev 1.204579\n",
      "EMD_score for each X factor 6 \t score 0.908140 \t dev 0.647807\n",
      "EMD_score for each X factor 7 \t score 0.318207 \t dev -0.742543\n",
      "EMD argsort:  [0 3 7 1 4 6 5 2]\n",
      "i 1\n",
      "(8, 6)\n",
      "(8, 15)\n",
      "EMD_score for each X factor 0 \t score 0.203432 \t dev -0.856975\n",
      "EMD_score for each X factor 1 \t score 0.326922 \t dev -0.613178\n",
      "EMD_score for each X factor 2 \t score 0.334236 \t dev -0.598739\n",
      "EMD_score for each X factor 3 \t score 0.285491 \t dev -0.694971\n",
      "EMD_score for each X factor 4 \t score 0.464511 \t dev -0.341546\n",
      "EMD_score for each X factor 5 \t score 1.835117 \t dev 2.364340\n",
      "EMD_score for each X factor 6 \t score 0.732641 \t dev 0.187803\n",
      "EMD_score for each X factor 7 \t score 0.917758 \t dev 0.553266\n",
      "EMD argsort:  [0 3 1 2 4 6 7 5]\n",
      "i 2\n",
      "(8, 6)\n",
      "(8, 15)\n",
      "EMD_score for each X factor 0 \t score 0.264397 \t dev -0.858699\n",
      "EMD_score for each X factor 1 \t score 0.341160 \t dev -0.637744\n",
      "EMD_score for each X factor 2 \t score 0.341740 \t dev -0.636073\n",
      "EMD_score for each X factor 3 \t score 0.358953 \t dev -0.586529\n",
      "EMD_score for each X factor 4 \t score 0.295536 \t dev -0.769069\n",
      "EMD_score for each X factor 5 \t score 1.289820 \t dev 2.092890\n",
      "EMD_score for each X factor 6 \t score 0.706105 \t dev 0.412717\n",
      "EMD_score for each X factor 7 \t score 0.904058 \t dev 0.982508\n",
      "EMD argsort:  [0 4 1 2 3 6 7 5]\n",
      "i 3\n",
      "(8, 6)\n",
      "(8, 15)\n",
      "EMD_score for each X factor 0 \t score 0.428906 \t dev -0.512584\n",
      "EMD_score for each X factor 1 \t score 0.387812 \t dev -0.603345\n",
      "EMD_score for each X factor 2 \t score 0.421186 \t dev -0.529636\n",
      "EMD_score for each X factor 3 \t score 0.159397 \t dev -1.107817\n",
      "EMD_score for each X factor 4 \t score 0.267875 \t dev -0.868235\n",
      "EMD_score for each X factor 5 \t score 1.039673 \t dev 0.836341\n",
      "EMD_score for each X factor 6 \t score 1.525356 \t dev 1.909009\n",
      "EMD_score for each X factor 7 \t score 1.057751 \t dev 0.876267\n",
      "EMD argsort:  [3 4 1 2 0 5 7 6]\n",
      "i 4\n",
      "(8, 6)\n",
      "(8, 15)\n",
      "EMD_score for each X factor 0 \t score 0.319112 \t dev -0.775066\n",
      "EMD_score for each X factor 1 \t score 0.471672 \t dev -0.450620\n",
      "EMD_score for each X factor 2 \t score 0.392912 \t dev -0.618118\n",
      "EMD_score for each X factor 3 \t score 0.316206 \t dev -0.781247\n",
      "EMD_score for each X factor 4 \t score 0.402083 \t dev -0.598615\n",
      "EMD_score for each X factor 5 \t score 1.727122 \t dev 2.219322\n",
      "EMD_score for each X factor 6 \t score 0.705312 \t dev 0.046257\n",
      "EMD_score for each X factor 7 \t score 1.134069 \t dev 0.958087\n",
      "EMD argsort:  [3 0 2 4 1 6 7 5]\n",
      "i 5\n",
      "(8, 6)\n",
      "(8, 15)\n",
      "EMD_score for each X factor 0 \t score 0.273971 \t dev -0.832080\n",
      "EMD_score for each X factor 1 \t score 0.403229 \t dev -0.467624\n",
      "EMD_score for each X factor 2 \t score 0.448853 \t dev -0.338982\n",
      "EMD_score for each X factor 3 \t score 0.270206 \t dev -0.842695\n",
      "EMD_score for each X factor 4 \t score 0.239172 \t dev -0.930197\n",
      "EMD_score for each X factor 5 \t score 1.322960 \t dev 2.125643\n",
      "EMD_score for each X factor 6 \t score 0.739113 \t dev 0.479431\n",
      "EMD_score for each X factor 7 \t score 0.855113 \t dev 0.806504\n",
      "EMD argsort:  [4 3 0 1 2 6 7 5]\n",
      "i 6\n",
      "(8, 6)\n",
      "(8, 15)\n",
      "EMD_score for each X factor 0 \t score 0.297967 \t dev -0.791853\n",
      "EMD_score for each X factor 1 \t score 0.389787 \t dev -0.567581\n",
      "EMD_score for each X factor 2 \t score 0.307488 \t dev -0.768600\n",
      "EMD_score for each X factor 3 \t score 0.268361 \t dev -0.864166\n",
      "EMD_score for each X factor 4 \t score 0.423150 \t dev -0.486091\n",
      "EMD_score for each X factor 5 \t score 1.318858 \t dev 1.701702\n",
      "EMD_score for each X factor 6 \t score 0.695896 \t dev 0.180100\n",
      "EMD_score for each X factor 7 \t score 1.275783 \t dev 1.596490\n",
      "EMD argsort:  [3 0 2 1 4 6 7 5]\n"
     ]
    }
   ],
   "source": [
    "fake_vs_true_search_range = [5, 10, 25, 50, 75, 100, 125]\n",
    "fake_vs_true_EMDs_set = np.zeros((len(fake_vs_true_search_range),num_of_cycle))\n",
    "for i in range(len(fake_vs_true_search_range)) :\n",
    "    print('i',i)    \n",
    "    num_in_cycle_sub = fake_vs_true_search_range[i]\n",
    "    fake_vs_true_EMDs_set[i] = EMD_fake_vs_true(test_gen, test_real, num_of_cycle, num_in_cycle, num_in_cycle_sub_1=num_in_cycle_sub, num_in_cycle_sub_2=num_in_cycle_sub, test_gen_sample_num=test_gen_sample_num)"
   ]
  },
  {
   "cell_type": "code",
   "execution_count": 16,
   "metadata": {},
   "outputs": [
    {
     "name": "stdout",
     "output_type": "stream",
     "text": [
      "[[0.16495986 0.37989465 1.38126859 0.24754767 0.52177838 1.1443815  0.90814025 0.31820714]\n",
      " [0.20343237 0.32692179 0.3342355  0.28549141 0.46451105 1.83511668 0.73264086 0.91775805]\n",
      " [0.2643972  0.34116011 0.34174047 0.35895272 0.29553591 1.28981986 0.70610456 0.90405769]\n",
      " [0.42890627 0.38781182 0.42118563 0.1593965  0.26787488 1.03967322 1.52535614 1.05775072]\n",
      " [0.31911235 0.47167193 0.39291181 0.31620607 0.4020825  1.72712239 0.70531172 1.13406931]\n",
      " [0.27397078 0.4032292  0.44885336 0.27020616 0.23917231 1.32296027 0.7391126  0.85511274]\n",
      " [0.29796719 0.38978675 0.30748755 0.26836136 0.42314965 1.31885754 0.69589625 1.27578256]]\n"
     ]
    }
   ],
   "source": [
    "print(fake_vs_true_EMDs_set)"
   ]
  },
  {
   "cell_type": "code",
   "execution_count": 20,
   "metadata": {},
   "outputs": [
    {
     "data": {
      "text/plain": [
       "array([[0.16495986, 0.37989465, 1.38126859, 0.24754767, 0.52177838, 1.1443815 , 0.90814025, 0.31820714],\n",
       "       [0.20343237, 0.32692179, 0.3342355 , 0.28549141, 0.46451105, 1.83511668, 0.73264086, 0.91775805],\n",
       "       [0.2643972 , 0.34116011, 0.34174047, 0.35895272, 0.29553591, 1.28981986, 0.70610456, 0.90405769],\n",
       "       [0.42890627, 0.38781182, 0.42118563, 0.1593965 , 0.26787488, 1.03967322, 1.52535614, 1.05775072],\n",
       "       [0.31911235, 0.47167193, 0.39291181, 0.31620607, 0.4020825 , 1.72712239, 0.70531172, 1.13406931],\n",
       "       [0.27397078, 0.4032292 , 0.44885336, 0.27020616, 0.23917231, 1.32296027, 0.7391126 , 0.85511274],\n",
       "       [0.29796719, 0.38978675, 0.30748755, 0.26836136, 0.42314965, 1.31885754, 0.69589625, 1.27578256]])"
      ]
     },
     "execution_count": 20,
     "metadata": {},
     "output_type": "execute_result"
    }
   ],
   "source": [
    "fake_vs_true_EMDs_set"
   ]
  },
  {
   "cell_type": "code",
   "execution_count": 26,
   "metadata": {},
   "outputs": [],
   "source": [
    "true_0 = np.array([[0.8266487 , 0.55093051, 1.62765442, 0.17890637, 0.14756212, 0.28398686, 0.63925868, 0.1905602 ],\n",
    "       [0.32943756, 0.61558017, 0.29440626, 0.35581493, 0.8408085 , 0.20773761, 0.47052951, 0.33580146],\n",
    "       [0.31267713, 0.2992364 , 0.16877917, 0.32970996, 0.14107211, 0.34550035, 0.30393295, 0.56271593],\n",
    "       [0.14016112, 0.08764927, 0.18969876, 0.18285475, 0.07962641, 0.14468856, 0.07295444, 0.14522758],\n",
    "       [0.20893906, 0.12989758, 0.12435243, 0.21361855, 0.17891435, 0.1476308 , 0.13483269, 0.15815261],\n",
    "       [0.1328374 , 0.12050848, 0.08679163, 0.24245635, 0.16820557, 0.14866351, 0.13241014, 0.15785952],\n",
    "       [0.09314047, 0.15082961, 0.09961669, 0.15316511, 0.10360745, 0.08921403, 0.11256826, 0.17368485],\n",
    "       [0.05376158, 0.06244415, 0.06540703, 0.05359813, 0.11646252, 0.06201199, 0.08826579, 0.06539997],\n",
    "       [0.0087301 , 0.08265326, 0.03461872, 0.02708203, 0.07051421, 0.04966067, 0.03067888, 0.04655163]])\n",
    "true_1 = np.array([[0.12411692, 0.15100096, 0.57129024, 0.45364378, 1.15260915, 0.33802871, 0.60125745, 0.1196452 ],\n",
    "       [0.47029367, 0.18976065, 0.31942932, 0.19092366, 0.39429193, 0.29404448, 0.25634082, 0.22027114],\n",
    "       [0.16612979, 0.33487219, 0.10938659, 0.30577304, 0.19564205, 0.32736886, 0.1661468 , 0.1246929 ],\n",
    "       [0.2489328 , 0.10308788, 0.17177268, 0.14393284, 0.16338329, 0.12801476, 0.1447183 , 0.12604922],\n",
    "       [0.14582181, 0.18209073, 0.15351294, 0.12739879, 0.32017942, 0.13362108, 0.09427326, 0.20688869],\n",
    "       [0.13482969, 0.10804191, 0.19704337, 0.12762222, 0.15915649, 0.2004535 , 0.17202813, 0.18257276],\n",
    "       [0.06428541, 0.09828846, 0.13385657, 0.12097328, 0.09438638, 0.08945933, 0.15418489, 0.06787365],\n",
    "       [0.08140166, 0.07048234, 0.06717345, 0.10910659, 0.08006077, 0.04835756, 0.05998378, 0.04611016],\n",
    "       [0.011771  , 0.03855837, 0.04060902, 0.02114135, 0.06398925, 0.01901949, 0.05245652, 0.03804641]])\n",
    "true_2 = np.array([[1.00662629, 1.71006815, 0.1451272 , 0.64934461, 0.55612733, 0.37086339, 0.2486387 , 0.92383495],\n",
    "       [0.12933557, 0.41590401, 0.23112059, 0.21630368, 0.31832683, 0.13326909, 0.15518149, 0.31658443],\n",
    "       [0.30377349, 0.28419041, 0.18610981, 0.42708849, 0.22344453, 0.25896912, 0.32068481, 0.22420297],\n",
    "       [0.31869358, 0.21863154, 0.077854  , 0.164133  , 0.12235308, 0.16055981, 0.12023085, 0.12466645],\n",
    "       [0.12233714, 0.09951905, 0.28042537, 0.19770483, 0.10263636, 0.17472413, 0.07237753, 0.26292513],\n",
    "       [0.04927767, 0.11141288, 0.10258527, 0.09736454, 0.3153179 , 0.0655274 , 0.11345928, 0.10175443],\n",
    "       [0.15497969, 0.1250379 , 0.08226601, 0.14811427, 0.10607482, 0.10505833, 0.10287055, 0.09745968],\n",
    "       [0.09788062, 0.04930404, 0.04796285, 0.05877151, 0.09426986, 0.12982136, 0.04294029, 0.03868669],\n",
    "       [0.01312096, 0.07979615, 0.03516172, 0.02551518, 0.02551047, 0.02592808, 0.02750804, 0.02558031]])\n",
    "true_3 = np.array([[0.15609949, 0.22308538, 0.14696255, 0.77718265, 0.37644927, 0.24091543, 0.40525424, 0.55742863],\n",
    "       [0.50732069, 0.20103656, 0.31033193, 0.9428812 , 0.48095251, 0.33861402, 0.32384944, 0.28702692],\n",
    "       [0.51544672, 0.17923731, 0.41738427, 0.20967902, 0.25430604, 0.18686489, 0.54540353, 0.3810227 ],\n",
    "       [0.13468213, 0.18451245, 0.13778576, 0.13222632, 0.52550027, 0.2039808 , 0.34926597, 0.17533179],\n",
    "       [0.15556146, 0.17401031, 0.15650177, 0.38609053, 0.15647888, 0.12364359, 0.13766917, 0.16286014],\n",
    "       [0.13620173, 0.09208405, 0.15523179, 0.20413416, 0.31360131, 0.13639592, 0.12105336, 0.19139292],\n",
    "       [0.06623514, 0.1940104 , 0.1195291 , 0.12680174, 0.06507922, 0.10467962, 0.1755928 , 0.14401417],\n",
    "       [0.04964486, 0.06017018, 0.07476765, 0.0415299 , 0.06730805, 0.08678711, 0.0571928 , 0.02902952],\n",
    "       [0.00529853, 0.06449941, 0.03200166, 0.02471037, 0.04532804, 0.07026672, 0.07287721, 0.03930425]])\n",
    "true_4 = np.array([[3.07626686e-01, 2.42895501e-01, 5.46251787e-01, 2.06185467e-01, 3.96419939e+00, 4.99894562e-01, 2.13822332e-01, 5.06385815e-01],\n",
    "       [1.48087742e-01, 3.19477116e-01, 2.89848656e-01, 3.23016114e-01, 3.59403226e-01, 2.93657999e-01, 2.60797318e-01, 3.82965326e-01],\n",
    "       [4.61305218e-01, 2.21769631e-01, 4.07700162e-01, 1.31051901e-01, 2.36325595e-01, 2.40512004e-01, 3.83172750e-01, 2.44197909e-01],\n",
    "       [1.72608013e-01, 1.93576069e-01, 1.52062276e-01, 2.87428046e-01, 5.59293435e-01, 2.05538114e-01, 1.12631118e-01, 1.74841966e-01],\n",
    "       [2.05722906e-01, 1.42009136e-01, 1.55181313e-01, 1.40863413e-01, 1.86672757e-01, 1.20158288e-01, 1.48291642e-01, 8.31958786e-02],\n",
    "       [7.62468987e-02, 1.73334723e-01, 9.18560638e-02, 7.54585820e-02, 1.57121043e-01, 7.48363983e-02, 1.47710582e-01, 1.53600200e-01],\n",
    "       [6.29001516e-02, 9.08346808e-02, 7.11363985e-02, 8.30371890e-02, 9.12525315e-02, 7.20182859e-02, 1.34376880e-01, 5.01547825e-02],\n",
    "       [3.91934021e-02, 1.22989513e-01, 1.07098523e-01, 4.07953564e-02, 3.05822910e-02, 3.49466541e-02, 9.93946102e-02, 8.62766091e-02],\n",
    "       [2.74661916e-03, 8.15552237e-02, 3.18549766e-02, 3.22666191e-02, 3.26641118e-02, 2.76753537e-02, 2.47304978e-02, 3.18695266e-02]])"
   ]
  },
  {
   "cell_type": "code",
   "execution_count": 30,
   "metadata": {},
   "outputs": [
    {
     "name": "stdout",
     "output_type": "stream",
     "text": [
      "(5, 9, 8)\n"
     ]
    }
   ],
   "source": [
    "true_vs_true_hist = np.stack([true_0,true_1,true_2,true_3,true_4])\n",
    "print(true_vs_true_hist.shape)"
   ]
  },
  {
   "cell_type": "code",
   "execution_count": 31,
   "metadata": {},
   "outputs": [
    {
     "data": {
      "text/plain": [
       "array([[0.48422362, 0.5755961 , 0.60745724, 0.45305258, 1.23938945, 0.34673779, 0.42164628, 0.45957096],\n",
       "       [0.31689505, 0.3483517 , 0.28902735, 0.40578792, 0.4787566 , 0.25346464, 0.29333972, 0.30852986],\n",
       "       [0.35186647, 0.26386119, 0.257872  , 0.28066048, 0.21015806, 0.27184304, 0.34386817, 0.30736648],\n",
       "       [0.20301553, 0.15749144, 0.1458347 , 0.18211499, 0.2900313 , 0.16855641, 0.15996014, 0.1492234 ],\n",
       "       [0.16767648, 0.14550536, 0.17399476, 0.21313522, 0.18897635, 0.13995558, 0.11748886, 0.17480449],\n",
       "       [0.10587868, 0.12107641, 0.12670162, 0.14940717, 0.22268046, 0.12517535, 0.1373323 , 0.15743597],\n",
       "       [0.08830817, 0.13180021, 0.10128095, 0.12641832, 0.09208008, 0.09208592, 0.13591868, 0.10663743],\n",
       "       [0.06437642, 0.07307804, 0.0724819 , 0.0607603 , 0.0777367 , 0.07238493, 0.06955545, 0.05310059],\n",
       "       [0.00833344, 0.06941248, 0.03484922, 0.02614311, 0.04760122, 0.03851006, 0.04165023, 0.03627043]])"
      ]
     },
     "execution_count": 31,
     "metadata": {},
     "output_type": "execute_result"
    }
   ],
   "source": [
    "np.mean(true_vs_true_hist,axis=0)"
   ]
  },
  {
   "cell_type": "code",
   "execution_count": 32,
   "metadata": {},
   "outputs": [
    {
     "data": {
      "text/plain": [
       "array([[1.31737648e-01, 3.40573951e-01, 2.94332174e-01, 5.59381458e-02, 1.96714397e+00, 7.85018811e-03, 3.06012888e-02, 8.30450236e-02],\n",
       "       [2.47249683e-02, 2.47321966e-02, 9.52192996e-04, 7.59777181e-02, 3.56407240e-02, 5.41011559e-03, 1.07685375e-02, 2.92024659e-03],\n",
       "       [1.54164382e-02, 3.12802904e-03, 1.66055807e-02, 1.03797498e-02, 1.55877947e-03, 3.37543472e-03, 1.51757053e-02, 2.29809310e-02],\n",
       "       [5.00691089e-03, 2.72160466e-03, 1.46435566e-03, 3.07229899e-03, 4.32747310e-02, 9.79955820e-04, 9.49149112e-03, 4.98802388e-04],\n",
       "       [1.16603742e-03, 9.04317712e-04, 2.97425822e-03, 8.54516386e-03, 5.16629508e-03, 3.93180150e-04, 8.46172181e-04, 3.52134667e-03],\n",
       "       [1.31322754e-03, 7.67018553e-04, 1.83011016e-03, 4.06092128e-03, 5.62982836e-03, 2.48725654e-03, 4.34132397e-04, 9.80051818e-04],\n",
       "       [1.23566435e-03, 1.41583332e-03, 5.33439537e-04, 6.19564604e-04, 2.12756661e-04, 1.48948273e-04, 7.09497677e-04, 2.13390569e-03],\n",
       "       [4.75253659e-04, 6.68557668e-04, 3.76590496e-04, 6.32204596e-04, 8.22146169e-04, 1.11858064e-03, 4.38654206e-04, 4.17593205e-04],\n",
       "       [1.50635503e-05, 2.81339889e-04, 1.00800348e-05, 1.31687155e-05, 3.01971684e-04, 3.57680192e-04, 3.39709916e-04, 5.03415717e-05]])"
      ]
     },
     "execution_count": 32,
     "metadata": {},
     "output_type": "execute_result"
    }
   ],
   "source": [
    "np.var(true_vs_true_hist,axis=0)"
   ]
  },
  {
   "cell_type": "code",
   "execution_count": 43,
   "metadata": {},
   "outputs": [
    {
     "data": {
      "text/plain": [
       "array([[ 56, 102,  79,  27, 128,   6,  17,  39],\n",
       "       [ 24,  20,   1,  46,  15,   8,  12,   3],\n",
       "       [ 12,   4,  24,  13,   3,   4,  12,  24],\n",
       "       [ 12,  10,   6,   9,  51,   3,  37,   2],\n",
       "       [  4,   4,   9,  18,  14,   2,   6,  11],\n",
       "       [ 11,   5,  11,  18,  11,  15,   2,   3],\n",
       "       [ 15,   8,   5,   3,   2,   1,   3,  18],\n",
       "       [ 11,  12,   7,  17,  13,  21,   9,  14],\n",
       "       [ 21,   5,   0,   1,  13,  24,  19,   3]])"
      ]
     },
     "execution_count": 43,
     "metadata": {},
     "output_type": "execute_result"
    }
   ],
   "source": [
    "np.int_(np.var(true_vs_true_hist,axis=0) / (np.mean(true_vs_true_hist,axis=0))**2*100)"
   ]
  },
  {
   "cell_type": "code",
   "execution_count": 44,
   "metadata": {},
   "outputs": [
    {
     "data": {
      "text/plain": [
       "array([454, 129,  96, 130,  68,  76,  55, 104,  86])"
      ]
     },
     "execution_count": 44,
     "metadata": {},
     "output_type": "execute_result"
    }
   ],
   "source": [
    "np.sum(np.int_(np.var(true_vs_true_hist,axis=0) / (np.mean(true_vs_true_hist,axis=0))**2*100),axis=1)"
   ]
  },
  {
   "cell_type": "code",
   "execution_count": 33,
   "metadata": {},
   "outputs": [],
   "source": [
    "fake_0=np.array([[0.18700499, 0.47251477, 1.05303211, 0.25230925, 0.41659449, 1.43821134, 0.58712381, 0.67383894],\n",
    "       [0.17685414, 0.49385601, 0.32795885, 0.36486219, 0.25165807, 0.44899168, 0.4572864 , 2.44073191],\n",
    "       [0.23006398, 0.26995956, 0.35724655, 0.32751558, 0.50081477, 1.27079516, 0.81081049, 1.17917214],\n",
    "       [0.23727282, 0.36951597, 0.4529362 , 0.35443517, 0.29728625, 1.56945358, 1.48390201, 1.56230554],\n",
    "       [0.3896225 , 0.35951498, 0.45244789, 0.33242542, 0.23985308, 1.54312235, 0.69567433, 1.46982265],\n",
    "       [0.35372962, 0.35517964, 0.47316707, 0.32069745, 0.40391999, 1.31120196, 0.68988275, 1.12765752],\n",
    "       [0.23408182, 0.32736043, 0.33750795, 0.29841112, 0.34980731, 1.42052606, 0.79331532, 0.78164182]])\n",
    "fake_1=np.array([[0.92040385, 0.75776032, 0.22376045, 0.63215013, 0.91611526, 1.75077897, 0.12272645, 1.19713823],\n",
    "       [0.78649246, 0.64632384, 0.3228886 , 0.32303768, 0.23481568, 0.5140977 , 0.83569312, 1.03287726],\n",
    "       [0.3083641 , 0.39760312, 0.33203088, 0.24885495, 0.71527661, 1.74074126, 0.69235794, 1.58321071],\n",
    "       [0.33558669, 0.31795402, 0.32777372, 0.30877338, 0.32180372, 1.53762714, 0.59202108, 1.14142297],\n",
    "       [0.28247296, 0.33865758, 0.34377516, 0.29314115, 0.48658207, 1.07032416, 0.69226418, 1.03393035],\n",
    "       [0.25950978, 0.3147941 , 0.42935814, 0.25310621, 0.32304028, 1.43065703, 0.68767732, 1.00621334],\n",
    "       [0.31728465, 0.3188075 , 0.39425921, 0.25577921, 0.35805079, 1.60801023, 0.56067706, 1.25558751]])\n",
    "fake_2=np.array([[0.85681053, 0.39563843, 0.34107732, 1.29749588, 0.37504497, 0.9152213 , 0.43975533, 0.90052254],\n",
    "       [0.38246757, 0.3779858 , 0.37258802, 0.66720909, 0.27905168, 1.2001616 , 0.36302384, 0.37577917],\n",
    "       [0.24015333, 0.39352101, 0.3580795 , 0.56554183, 0.26145735, 1.09598073, 0.43038581, 1.0899051 ],\n",
    "       [0.23093036, 0.31548135, 0.53692401, 0.2468476 , 0.35314566, 1.31087494, 0.88473824, 0.43796398],\n",
    "       [0.35203226, 0.34993141, 0.38115163, 0.19153   , 0.41143523, 1.17866743, 0.81804009, 0.93015771],\n",
    "       [0.26243783, 0.33158026, 0.3784587 , 0.24650559, 0.31024645, 1.62393922, 0.72421022, 1.31824919],\n",
    "       [0.33652621, 0.31945871, 0.37088323, 0.3048953 , 0.32553832, 1.24842514, 0.57696555, 1.1297387 ]])\n",
    "fake_3=np.array([[0.3684392 , 0.60303656, 0.1441518 , 0.39507732, 0.34960099, 0.75556366, 3.28078296, 1.30946766],\n",
    "       [0.35367737, 0.36263935, 0.43485882, 1.00631492, 0.56522239, 1.90902956, 0.25866968, 0.31971946],\n",
    "       [0.36508686, 0.31865079, 0.40875181, 0.31949726, 0.38078112, 0.66195139, 0.63234041, 1.41499844],\n",
    "       [0.31597673, 0.33726658, 0.47416973, 0.31296744, 0.46846052, 1.32020199, 0.80553126, 1.44154925],\n",
    "       [0.25219368, 0.28104784, 0.27706788, 0.29517508, 0.31497922, 1.36218096, 0.73782316, 0.89772582],\n",
    "       [0.33800563, 0.38618619, 0.3492915 , 0.22870012, 0.3664932 , 1.39360308, 0.68892203, 1.00231802],\n",
    "       [0.52495148, 0.36161401, 0.39747889, 0.26444448, 0.28234161, 1.5414254 , 1.22562188, 0.92229323]])\n",
    "fake_4=np.array([[0.16495986, 0.37989465, 1.38126859, 0.24754767, 0.52177838, 1.1443815 , 0.90814025, 0.31820714],\n",
    "       [0.20343237, 0.32692179, 0.3342355 , 0.28549141, 0.46451105, 1.83511668, 0.73264086, 0.91775805],\n",
    "       [0.2643972 , 0.34116011, 0.34174047, 0.35895272, 0.29553591, 1.28981986, 0.70610456, 0.90405769],\n",
    "       [0.42890627, 0.38781182, 0.42118563, 0.1593965 , 0.26787488, 1.03967322, 1.52535614, 1.05775072],\n",
    "       [0.31911235, 0.47167193, 0.39291181, 0.31620607, 0.4020825 , 1.72712239, 0.70531172, 1.13406931],\n",
    "       [0.27397078, 0.4032292 , 0.44885336, 0.27020616, 0.23917231, 1.32296027, 0.7391126 , 0.85511274],\n",
    "       [0.29796719, 0.38978675, 0.30748755, 0.26836136, 0.42314965, 1.31885754, 0.69589625, 1.27578256]])"
   ]
  },
  {
   "cell_type": "code",
   "execution_count": 34,
   "metadata": {},
   "outputs": [
    {
     "name": "stdout",
     "output_type": "stream",
     "text": [
      "(5, 7, 8)\n"
     ]
    }
   ],
   "source": [
    "fake_vs_true_hist = np.stack([fake_0,fake_1,fake_2,fake_3,fake_4])\n",
    "print(fake_vs_true_hist.shape)"
   ]
  },
  {
   "cell_type": "code",
   "execution_count": 35,
   "metadata": {},
   "outputs": [
    {
     "data": {
      "text/plain": [
       "array([[0.49952369, 0.52176895, 0.62865805, 0.56491605, 0.51582682, 1.20083135, 1.06770576, 0.8798349 ],\n",
       "       [0.38058478, 0.44154536, 0.35850596, 0.52938306, 0.35905177, 1.18147944, 0.52946278, 1.01737317],\n",
       "       [0.28161309, 0.34417892, 0.35956984, 0.36407247, 0.43077315, 1.21185768, 0.65439984, 1.23426882],\n",
       "       [0.30973457, 0.34560595, 0.44259786, 0.27648402, 0.34171421, 1.35556617, 1.05830975, 1.12819849],\n",
       "       [0.31908675, 0.36016475, 0.36947087, 0.28569554, 0.37098642, 1.37628346, 0.7298227 , 1.09314117],\n",
       "       [0.29753073, 0.35819388, 0.41582575, 0.26384311, 0.32857445, 1.41647231, 0.70596098, 1.06191016],\n",
       "       [0.34216227, 0.34340548, 0.36152337, 0.27837829, 0.34777754, 1.42744887, 0.77049521, 1.07300876]])"
      ]
     },
     "execution_count": 35,
     "metadata": {},
     "output_type": "execute_result"
    }
   ],
   "source": [
    "np.mean(fake_vs_true_hist,axis=0)"
   ]
  },
  {
   "cell_type": "code",
   "execution_count": 36,
   "metadata": {},
   "outputs": [
    {
     "data": {
      "text/plain": [
       "array([[1.06315607e-01, 2.01519101e-02, 2.45581403e-01, 1.53696905e-01, 4.35127735e-02, 1.28362929e-01, 1.28828770e+00, 1.28710753e-01],\n",
       "       [4.76755497e-02, 1.36150338e-02, 1.76376823e-03, 7.51177366e-02, 1.73992023e-02, 3.87771309e-01, 4.82597214e-02, 5.86895442e-01],\n",
       "       [2.47121922e-03, 2.29161981e-03, 7.00553143e-04, 1.14429095e-02, 2.70608403e-02, 1.21018793e-01, 1.58494782e-02, 5.74679113e-02],\n",
       "       [5.27399990e-03, 8.18938074e-04, 4.72883071e-03, 4.60756584e-03, 4.80356461e-03, 3.63860616e-02, 1.42142052e-01, 1.53639817e-01],\n",
       "       [2.37519035e-03, 3.85220769e-03, 3.35393715e-03, 2.42540437e-03, 7.25963721e-03, 5.67570478e-02, 2.20477140e-03, 4.23641477e-02],\n",
       "       [1.60574166e-03, 1.08253216e-03, 2.07701569e-03, 9.84760950e-04, 3.09481345e-03, 1.27186150e-02, 4.63038438e-04, 2.38901891e-02],\n",
       "       [9.53942904e-03, 7.83744963e-04, 1.18973037e-03, 3.81934892e-04, 2.11341169e-03, 1.78965105e-02, 5.89406867e-02, 3.70560729e-02]])"
      ]
     },
     "execution_count": 36,
     "metadata": {},
     "output_type": "execute_result"
    }
   ],
   "source": [
    "np.var(fake_vs_true_hist,axis=0)"
   ]
  },
  {
   "cell_type": "code",
   "execution_count": 45,
   "metadata": {},
   "outputs": [
    {
     "data": {
      "text/plain": [
       "array([[ 42,   7,  62,  48,  16,   8, 113,  16],\n",
       "       [ 32,   6,   1,  26,  13,  27,  17,  56],\n",
       "       [  3,   1,   0,   8,  14,   8,   3,   3],\n",
       "       [  5,   0,   2,   6,   4,   1,  12,  12],\n",
       "       [  2,   2,   2,   2,   5,   2,   0,   3],\n",
       "       [  1,   0,   1,   1,   2,   0,   0,   2],\n",
       "       [  8,   0,   0,   0,   1,   0,   9,   3]])"
      ]
     },
     "execution_count": 45,
     "metadata": {},
     "output_type": "execute_result"
    }
   ],
   "source": [
    "np.int_(np.var(fake_vs_true_hist,axis=0) / (np.mean(fake_vs_true_hist,axis=0))**2*100)"
   ]
  },
  {
   "cell_type": "code",
   "execution_count": 46,
   "metadata": {},
   "outputs": [
    {
     "data": {
      "text/plain": [
       "array([312, 178,  40,  42,  18,   7,  21])"
      ]
     },
     "execution_count": 46,
     "metadata": {},
     "output_type": "execute_result"
    }
   ],
   "source": [
    "np.sum(np.int_(np.var(fake_vs_true_hist,axis=0) / (np.mean(fake_vs_true_hist,axis=0))**2*100),axis=1)"
   ]
  },
  {
   "cell_type": "markdown",
   "metadata": {},
   "source": [
    "# GEN / REAL ( 개당 250개, 8set ) Pair plot"
   ]
  },
  {
   "cell_type": "markdown",
   "metadata": {},
   "source": [
    "# 1. Custom scale\n"
   ]
  },
  {
   "cell_type": "code",
   "execution_count": 17,
   "metadata": {
    "scrolled": true
   },
   "outputs": [],
   "source": [
    "# # gen_factor = 7\n",
    "# # test_sample_num = int(total_result_test.shape[0]/15)\n",
    "# # test_gan_matrix_plot = total_result_test[gen_factor * test_sample_num:(gen_factor+1)*test_sample_num]\n",
    "\n",
    "# for factor in range(num_of_cycle):\n",
    "    \n",
    "#     print(\"factor\", factor)\n",
    "\n",
    "#     ##############################################################################################################\n",
    "#     \"\"\"\n",
    "#     for i in range(6):\n",
    "#         print(np.min(total_result[:,i]))\n",
    "#         print(np.max(total_result[:,i]))\n",
    "#         print(np.min(real[:,i]))\n",
    "#         print(np.max(real[:,i]))\n",
    "#     \"\"\"\n",
    "\n",
    "#     # generated sample\n",
    "#     print(sum(num_in_cycle[:factor]),sum(num_in_cycle[:factor])+num_in_cycle[factor])\n",
    "#     test_gan_matrix_plot = test_gen[factor * test_gen_sample_num:(factor+1)*test_gen_sample_num]\n",
    "#     print(\"Generated sample shape:\", test_gan_matrix_plot.shape)\n",
    "\n",
    "#     # real sample\n",
    "#     test_real_matrix_plot = test_real[sum(num_in_cycle[:factor]):sum(num_in_cycle[:factor])+num_in_cycle[factor]]\n",
    "#     print(\"real sample shape:\", test_real_matrix_plot.shape)\n",
    "#     print()\n",
    "\n",
    "#     # Assigning class(generated: 0, real:1 ) for visualization\n",
    "\n",
    "#     print(\"Assigning class for visualization (generated: 0, real:1 )\")\n",
    "\n",
    "#     test_gan_cls = np.ones((test_gen_sample_num, 1))\n",
    "#     print(\"generated sample class shape:\", test_gan_cls.shape)\n",
    "#     test_real_cls = np.zeros((num_in_cycle[factor], 1))\n",
    "#     print(\"real sample class shape:\", test_real_cls.shape)\n",
    "\n",
    "#     test_temp1 = np.hstack([test_gan_matrix_plot, test_gan_cls])\n",
    "#     test_temp2 = np.hstack([test_real_matrix_plot, test_real_cls])\n",
    "\n",
    "#     # TOTAL PANDAS DATA\n",
    "#     total_test_matrix_plot = np.vstack([test_temp1, test_temp2])\n",
    "#     # print(total_matrix_plot.shape)\n",
    "\n",
    "#     # A: Ioff, B: IDSat, C: IDlin, D: VTsat, E:VTlin, F:SS, G: classes\n",
    "#     df1_test = pd.DataFrame(total_test_matrix_plot, columns=['Ioff', 'IDSat',  'IDlin',  'VTsat', 'VTlin', 'SS', 'classes'])\n",
    "#     # print(df1)\n",
    "\n",
    "# #    print(df1_test)\n",
    "    \n",
    "#         # min, max for generated Y value ( used for scatter plot limit standard )\n",
    "\n",
    "#     test_min_list = total_test_matrix_plot.min(axis=0)\n",
    "#     test_max_list = total_test_matrix_plot.max(axis=0)\n",
    "#     print(\"minimum y value for each varaible:\", test_min_list)\n",
    "#     print(\"maximum y value for each varaible:\", test_max_list)\n",
    "\n",
    "#     X_test = X_per_cycle[factor]\n",
    "\n",
    "#     print(\"X input\", X_test)\n",
    "\n",
    "#     g = sns.pairplot(df1_test, hue = 'classes')\n",
    "#     for i in range(6):\n",
    "#         g.fig.suptitle(\"CGAN Amp: {:.2f}, Corr x: {:.2f}, Corr y: {:.2f}, EMD pdf: {:.2f}, EMD integral: {:.2f}\".format(X_test[0], X_test[1], X_test[2], EMD_score_list_pdf[factor], EMD_score_list_integral[factor]), y=1.04, fontsize=30)\n",
    "#         g.axes[i,i].set_xlim((test_min_list[i],test_max_list[i]))\n",
    "#         g.axes[i,i].set_ylim((test_min_list[i],test_max_list[i]))\n",
    "    \n",
    "#     plt.tight_layout()\n",
    "# #     plt.savefig('figures/Test_Custom_factor_{}_sample_{}.pdf'.format(factor, test_gen_sample_num), bbox_inches='tight')\n",
    "    \n",
    "#     plt.show()\n",
    "\n",
    "\n",
    "#     ### 파란색이 real 주황색이 generated"
   ]
  },
  {
   "cell_type": "markdown",
   "metadata": {},
   "source": [
    "# 2. Same scale"
   ]
  },
  {
   "cell_type": "code",
   "execution_count": 18,
   "metadata": {},
   "outputs": [],
   "source": [
    "\n",
    "# min1_per_out_v = test_real.min(axis=0)\n",
    "# max1_per_out_v = test_real.max(axis=0)\n",
    "# print(\"minimum y value for each varaible:\", min1_per_out_v)\n",
    "# print(\"maximum y value for each varaible:\", max1_per_out_v)\n",
    "\n",
    "# min2_per_out_v = test_gen.min(axis=0)\n",
    "# max2_per_out_v = test_gen.max(axis=0)\n",
    "# print(\"minimum y value for each varaible:\", min2_per_out_v)\n",
    "# print(\"maximum y value for each varaible:\", max2_per_out_v)\n",
    "\n",
    "# min_per_out_v = []\n",
    "# max_per_out_v = []\n",
    "\n",
    "# for i in range(6):\n",
    "#     min_per_out_v.append(min1_per_out_v[i] if min1_per_out_v[i] < min2_per_out_v[i] else min2_per_out_v[i])\n",
    "#     max_per_out_v.append(max1_per_out_v[i] if max1_per_out_v[i] > max2_per_out_v[i] else max2_per_out_v[i])\n",
    "\n",
    "    \n",
    "# for factor in range(num_of_cycle):\n",
    "    \n",
    "#     print(\"factor\", factor)\n",
    "\n",
    "#     ##############################################################################################################\n",
    "#     \"\"\"\n",
    "#     for i in range(6):\n",
    "#         print(np.min(total_result[:,i]))\n",
    "#         print(np.max(total_result[:,i]))\n",
    "#         print(np.min(real[:,i]))\n",
    "#         print(np.max(real[:,i]))\n",
    "#     \"\"\"\n",
    "\n",
    "#     # generated sample\n",
    "#     print(sum(num_in_cycle[:factor]),sum(num_in_cycle[:factor])+num_in_cycle[factor])\n",
    "#     test_gan_matrix_plot = test_gen[factor * test_gen_sample_num:(factor+1)*test_gen_sample_num]\n",
    "#     print(\"Generated sample shape:\", test_gan_matrix_plot.shape)\n",
    "\n",
    "#     # real sample\n",
    "#     test_real_matrix_plot = test_real[sum(num_in_cycle[:factor]):sum(num_in_cycle[:factor])+num_in_cycle[factor]]\n",
    "#     print(\"real sample shape:\", test_real_matrix_plot.shape)\n",
    "#     print()\n",
    "\n",
    "#     # Assigning class(generated: 0, real:1 ) for visualization\n",
    "\n",
    "#     print(\"Assigning class for visualization (generated: 0, real:1 )\")\n",
    "\n",
    "#     test_gan_cls = np.ones((test_gen_sample_num, 1))\n",
    "#     print(\"generated sample class shape:\", test_gan_cls.shape)\n",
    "#     test_real_cls = np.zeros((num_in_cycle[factor], 1))\n",
    "#     print(\"real sample class shape:\", test_real_cls.shape)\n",
    "\n",
    "#     test_temp1 = np.hstack([test_gan_matrix_plot, test_gan_cls])\n",
    "#     test_temp2 = np.hstack([test_real_matrix_plot, test_real_cls])\n",
    "\n",
    "#     # TOTAL PANDAS DATA\n",
    "#     total_test_matrix_plot = np.vstack([test_temp1, test_temp2])\n",
    "#     # print(total_matrix_plot.shape)\n",
    "\n",
    "#     # A: Ioff, B: IDSat, C: IDlin, D: VTsat, E:VTlin, F:SS, G: classes\n",
    "#     df1_test = pd.DataFrame(total_test_matrix_plot, columns=['Ioff', 'IDSat',  'IDlin',  'VTsat', 'VTlin', 'SS', 'classes'])\n",
    "#     # print(df1)\n",
    "    \n",
    "# #     print(np.min(test_min_list))\n",
    "# #     print(np.max(test_max_list, axis=1))\n",
    "#     X_test = X_per_cycle[factor]\n",
    "\n",
    "#     print(\"X input\", X_test)\n",
    "\n",
    "#     g = sns.pairplot(df1_test, hue = 'classes')\n",
    "#     for i in range(6):\n",
    "#         g.fig.suptitle(\"CGAN Amp: {:.4f}, Corr x: {:.4f}, Corr y: {:.4f}, EMD pdf: {:.2f}, EMD integral: {:.2f}\".format(X_test[0], X_test[1], X_test[2], EMD_score_list_pdf[factor], EMD_score_list_integral[factor]), y=1.04, fontsize=30)\n",
    "#         g.axes[i,i].set_xlim((min_per_out_v[i], max_per_out_v[i]))\n",
    "#         g.axes[i,i].set_ylim((min_per_out_v[i], max_per_out_v[i]))\n",
    "    \n",
    "#     plt.tight_layout()\n",
    "# #     plt.savefig('figures/Test_Same_factor_{}_sample_{}.pdf'.format(factor, test_gen_sample_num), bbox_inches='tight')\n",
    "    \n",
    "#     plt.show()\n",
    "\n",
    "\n",
    "#     ### 파란색이 real 주황색이 generated"
   ]
  },
  {
   "cell_type": "code",
   "execution_count": null,
   "metadata": {},
   "outputs": [],
   "source": []
  }
 ],
 "metadata": {
  "kernelspec": {
   "display_name": "Python 3",
   "language": "python",
   "name": "python3"
  },
  "language_info": {
   "codemirror_mode": {
    "name": "ipython",
    "version": 3
   },
   "file_extension": ".py",
   "mimetype": "text/x-python",
   "name": "python",
   "nbconvert_exporter": "python",
   "pygments_lexer": "ipython3",
   "version": "3.7.6"
  }
 },
 "nbformat": 4,
 "nbformat_minor": 4
}
