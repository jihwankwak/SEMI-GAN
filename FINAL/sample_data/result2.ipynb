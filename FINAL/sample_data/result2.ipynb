{
 "cells": [
  {
   "cell_type": "code",
   "execution_count": 2,
   "metadata": {},
   "outputs": [],
   "source": [
    "import os\n",
    "import numpy as np\n",
    "import matplotlib.pyplot as plt\n",
    "import scipy.io as sio\n",
    "import pandas as pd\n",
    "import seaborn as sns\n",
    "from pandas import ExcelWriter\n",
    "from pandas import ExcelFile\n",
    "import sample_utils\n",
    "\n",
    "%matplotlib inline"
   ]
  },
  {
   "cell_type": "code",
   "execution_count": 2,
   "metadata": {
    "scrolled": true
   },
   "outputs": [
    {
     "name": "stdout",
     "output_type": "stream",
     "text": [
      "{'50': [10]}\n"
     ]
    }
   ],
   "source": [
    "file_path = '2020_LER_20201102_testset_V04.xlsx'\n",
    "\n",
    "gen_list = {}\n",
    "\n",
    "gen_list['50'] = [10]\n",
    "gen_list['175'] = [10]\n",
    "gen_list['250'] = [10]\n",
    "gen_list['325'] = [10]\n",
    "gen_list['400'] = [10]\n",
    "\n",
    "\n",
    "gen_list['50'] = [10]\n",
    "gen_list['150'] = [10]\n",
    "gen_list['350'] = [10]\n",
    "gen_list['450'] = [10]\n",
    "\n",
    "print(gen_list)\n",
    "\n",
    "\n",
    "# sample_num = 750\n",
    "# result_total = []\n",
    "\n",
    "# for i in range(10):\n",
    "    \n",
    "#     gen_seed = gen_seed_list[i]\n",
    "    \n",
    "#     # True Data    \n",
    "    \n",
    "#     file_path = '2020_LER_20201102_testset_V04.xlsx'\n",
    "\n",
    "#     data = np.load('../data_handler/'+file_path+'.npy', allow_pickle=True)\n",
    "#     num_in_cycle = [250]*10\n",
    "#     num_of_cycle = 10\n",
    "\n",
    "#     X_all, Y_all, X_per_cycle, Y_per_cycle = data[0], data[1], data[2], data[3]\n",
    "#     test_real = Y_all\n",
    "\n",
    "#     # for pair plot indexing\n",
    "#     test_X_cycle = X_per_cycle\n",
    "\n",
    "#     y_mean = np.mean(Y_all, axis=0, dtype=np.float32)\n",
    "#     y_std = np.std(Y_all, axis=0, dtype=np.float32)\n",
    "\n",
    "#     # Gen Data\n",
    "\n",
    "#     result = 'test_specificnaive_date_210130_data_2020_LER_20201008_V008.xlsx_model_mlp_gan1_seed_{}_lr_5e-05_0.0001_0.0005_hidden_dim_100_50_batch_size_32_noise_d_100_sample_num_{}_tr_num_in_cycle_50_pdrop_0.9.npy'.format(gen_seed, sample_num)\n",
    "#     print(result)\n",
    "#     test_gen = np.load(result, allow_pickle=True)\n",
    "\n",
    "#     num_of_cycle = 10\n",
    "\n",
    "#     test_gen_sample_num = int(test_gen.shape[0]/num_of_cycle)\n",
    "#     gen_num_in_cycle = [test_gen_sample_num]*num_of_cycle\n",
    "#     print(test_gen_sample_num)\n",
    "#     print(gen_num_in_cycle)\n",
    "    \n",
    "    \n",
    "#     min1_per_out_v = test_real.min(axis=0)\n",
    "#     max1_per_out_v = test_gen.max(axis=0)\n",
    "\n",
    "#     min2_per_out_v = test_real.min(axis=0)\n",
    "#     max2_per_out_v = test_real.max(axis=0)\n",
    "#     print(\"minimum y value for each varaible:\", min2_per_out_v)\n",
    "#     print(\"maximum y value for each varaible:\", max2_per_out_v)\n",
    "\n",
    "#     min_per_out_v = np.minimum(min1_per_out_v, min2_per_out_v)\n",
    "#     max_per_out_v = np.maximum(max1_per_out_v, max2_per_out_v)\n",
    "\n",
    "#     # EMD  \n",
    "\n",
    "#     EMD_1d_score_list, EMD_2d_score_list = sample_utils.EMD_all_pair_each_X_integral(generated_samples = test_gen, real_samples = test_real, num_coordinate=10, num_of_cycle=num_of_cycle, num_in_gen_list=gen_num_in_cycle, num_in_real_list = num_in_cycle, min_list = min_per_out_v, max_list = max_per_out_v) \n",
    "\n",
    "#     print(EMD_1d_score_list.shape)\n",
    "#     print(EMD_2d_score_list.shape)\n",
    "\n",
    "#     EMD_score_cat = np.hstack((EMD_1d_score_list, EMD_2d_score_list))\n",
    "\n",
    "#     EMD_score = np.mean(EMD_score_cat)\n",
    "#     EMD_score_list_integral = np.mean(EMD_score_cat,axis=1)\n",
    "#     EMD_std = np.sqrt(np.mean((EMD_score - EMD_score_list_integral)**2))\n",
    "    \n",
    "    \n",
    "#     result_total.append(EMD_score_list_integral)\n",
    "    \n",
    "#     print(result_total)\n",
    "    \n",
    "# #     for factor in [1, 6]:\n",
    "\n",
    "# #         print(\"factor\", factor)\n",
    "\n",
    "# #         ##############################################################################################################\n",
    "# #         \"\"\"\n",
    "# #         for i in range(6):\n",
    "# #             print(np.min(total_result[:,i]))\n",
    "# #             print(np.max(total_result[:,i]))\n",
    "# #             print(np.min(real[:,i]))\n",
    "# #             print(np.max(real[:,i]))\n",
    "# #         \"\"\"\n",
    "\n",
    "# #         # generated sample\n",
    "# #         print(sum(num_in_cycle[:factor]),sum(num_in_cycle[:factor])+num_in_cycle[factor])\n",
    "# #         test_gen_matrix_plot = test_gen[sum(gen_num_in_cycle[:factor]):sum(gen_num_in_cycle[:factor])+gen_num_in_cycle[factor]]\n",
    "# #         print(\"real sample shape:\", test_gen_matrix_plot.shape)\n",
    "\n",
    "# #         # real sample\n",
    "# #         test_real_matrix_plot = test_real[sum(num_in_cycle[:factor]):sum(num_in_cycle[:factor])+num_in_cycle[factor]]\n",
    "# #         print(\"test sample shape:\", test_real_matrix_plot.shape)\n",
    "# #         print()\n",
    "\n",
    "# #         # Assigning class(real: 0, gen:1 ) for visualization\n",
    "\n",
    "# #         print(\"Assigning class for visualization (real: 0, gen:1 )\")\n",
    "\n",
    "# #         test_gen_cls = np.ones((gen_num_in_cycle[factor], 1))\n",
    "# #         print(\"real A sample class shape:\", test_gen_cls.shape)\n",
    "# #         test_real_cls = np.zeros((num_in_cycle[factor], 1))\n",
    "# #         print(\"real B sample class shape:\", test_real_cls.shape)\n",
    "\n",
    "# #         test_temp1 = np.hstack([test_gen_matrix_plot, test_gen_cls])\n",
    "# #         test_temp2 = np.hstack([test_real_matrix_plot, test_real_cls])\n",
    "\n",
    "# #         # TOTAL PANDAS DATA\n",
    "# #         total_test_matrix_plot = np.vstack([test_temp1, test_temp2])\n",
    "# #         # print(total_matrix_plot.shape)\n",
    "\n",
    "# #         # A: Ioff, B: IDSat, C: IDlin, D: VTsat, E:VTlin, F:SS, G: classes\n",
    "# #         df1_test = pd.DataFrame(total_test_matrix_plot, columns=['Ioff', 'IDSat',  'IDlin',  'VTsat', 'VTlin', 'SS', 'classes'])\n",
    "# #         # print(df1)\n",
    "\n",
    "# #     #     print(np.min(test_min_list))\n",
    "# #     #     print(np.max(test_max_list, axis=1))\n",
    "# #         X_test = X_per_cycle[factor]\n",
    "\n",
    "# #         print(\"X input\", X_test)\n",
    "\n",
    "# #         g = sns.pairplot(df1_test, hue = 'classes')\n",
    "# #         for i in range(6):\n",
    "# #             g.fig.suptitle(\"CGAN Amp: {:.4f}, Corr x: {:.4f}, Corr y: {:.4f}, EMD integral: {:.3f}\".format(X_test[0], X_test[1], X_test[2], EMD_score_list_integral[factor]), y=1.04, fontsize=30)\n",
    "# #             g.axes[i,i].set_xlim((min_per_out_v[i], max_per_out_v[i]))\n",
    "# #             g.axes[i,i].set_ylim((min_per_out_v[i], max_per_out_v[i]))\n",
    "\n",
    "# #         for ax in g.axes.flatten():\n",
    "# #             ax.ticklabel_format(style='sci', scilimits=(0,0), axis='both')\n",
    "\n",
    "# #         plt.rcParams.update({'font.size': 15})\n",
    "# #         plt.tight_layout()\n",
    "# #         plt.show()\n",
    "# #             ### 파란색이 real 주황색이 generated"
   ]
  },
  {
   "cell_type": "code",
   "execution_count": 24,
   "metadata": {},
   "outputs": [
    {
     "data": {
      "text/plain": [
       "array([0.23019361, 0.16472518, 0.2050434 , 0.20150969, 0.20367673,\n",
       "       0.17017566, 0.06600316, 0.16912136, 0.11813598, 0.08065658])"
      ]
     },
     "execution_count": 24,
     "metadata": {},
     "output_type": "execute_result"
    }
   ],
   "source": [
    "np.mean(result_total, axis=0)"
   ]
  },
  {
   "cell_type": "code",
   "execution_count": 25,
   "metadata": {},
   "outputs": [
    {
     "data": {
      "text/plain": [
       "array([0.02736001, 0.03105772, 0.03214527, 0.01892219, 0.02780586,\n",
       "       0.03895784, 0.00937325, 0.0265723 , 0.01462277, 0.00880808])"
      ]
     },
     "execution_count": 25,
     "metadata": {},
     "output_type": "execute_result"
    }
   ],
   "source": [
    "np.std(result_total, axis=0)"
   ]
  },
  {
   "cell_type": "code",
   "execution_count": null,
   "metadata": {},
   "outputs": [],
   "source": []
  }
 ],
 "metadata": {
  "kernelspec": {
   "display_name": "Python 3",
   "language": "python",
   "name": "python3"
  },
  "language_info": {
   "codemirror_mode": {
    "name": "ipython",
    "version": 3
   },
   "file_extension": ".py",
   "mimetype": "text/x-python",
   "name": "python",
   "nbconvert_exporter": "python",
   "pygments_lexer": "ipython3",
   "version": "3.7.6"
  }
 },
 "nbformat": 4,
 "nbformat_minor": 4
}
