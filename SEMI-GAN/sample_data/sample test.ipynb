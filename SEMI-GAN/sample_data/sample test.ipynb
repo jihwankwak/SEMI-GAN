{
 "cells": [
  {
   "cell_type": "code",
   "execution_count": 1,
   "metadata": {},
   "outputs": [],
   "source": [
    "import os\n",
    "import numpy as np\n",
    "import matplotlib.pyplot as plt\n",
    "import scipy.io as sio\n",
    "import pandas as pd\n",
    "from pandas import ExcelWriter\n",
    "from pandas import ExcelFile\n",
    "\n",
    "%matplotlib inline"
   ]
  },
  {
   "cell_type": "markdown",
   "metadata": {},
   "source": [
    "mean type"
   ]
  },
  {
   "cell_type": "code",
   "execution_count": 2,
   "metadata": {},
   "outputs": [],
   "source": [
    "# mean_name = 'mean_date_20200815_datatype_n_model_mlp_gan1_seed_0_mean_lr_5e-05_g_lr_0.0001_d_lr_0.0005_mean_hidden_dim_100_gan_type_gan1_gan_hidden_dim_100_batch_32_epoch_1000_noise_100.npy'\n",
    "# mean_result = np.load(mean_name, allow_pickle=True)"
   ]
  },
  {
   "cell_type": "markdown",
   "metadata": {},
   "source": [
    "noise type"
   ]
  },
  {
   "cell_type": "code",
   "execution_count": 3,
   "metadata": {},
   "outputs": [],
   "source": [
    "# noise_name = 'std_date_20200815_datatype_n_model_mlp_gan1_seed_0_mean_lr_5e-05_g_lr_0.0001_d_lr_0.0005_mean_hidden_dim_100_gan_type_gan1_gan_hidden_dim_100_batch_32_epoch_1000_noise_100.npy'\n",
    "# noise_result = np.load(noise_name, allow_pickle=True)"
   ]
  },
  {
   "cell_type": "markdown",
   "metadata": {},
   "source": [
    "total type"
   ]
  },
  {
   "cell_type": "code",
   "execution_count": 4,
   "metadata": {},
   "outputs": [],
   "source": [
    "# # base gan\n",
    "# total_name = 'total_date__data_n_model_mlp_gan1_seed_0_lr_5e-05_0.0001_0.0005_hidden_dim_100_100_batch_size_32_epoch_1000_200_noise_d_100_sample_num_50.npy'\n",
    "# # base wgan\n",
    "# total_name = 'total_date__data_n_model_mlp_wgan_seed_0_lr_5e-05_0.0001_0.0005_hidden_dim_100_100_batch_size_32_epoch_1000_200_noise_d_100_sample_num_50.npy'\n",
    "# # new wgan\n",
    "# total_name = 'total_date__data_n_model_mlp_wgan_seed_0_lr_5e-05_0.0005_0.001_hidden_dim_100_200_batch_size_32_epoch_1000_200_noise_d_100_sample_num_50.npy'\n",
    "# # # base gan\n",
    "# # total_name = 'total_date__data_n_model_mlp_gan1_seed_0_lr_5e-05_0.0001_0.0005_hidden_dim_100_100_batch_size_32_epoch_1000_200_noise_d_100_sample_num_50.npy'\n",
    "# # # base gan\n",
    "# # total_name = 'total_date__data_n_model_mlp_gan1_seed_0_lr_5e-05_0.0001_0.0005_hidden_dim_100_100_batch_size_32_epoch_1000_200_noise_d_100_sample_num_50.npy'\n",
    "\n",
    "\n",
    "\n",
    "\n",
    "\n",
    "# total_result = np.load(total_name, allow_pickle=True)"
   ]
  },
  {
   "cell_type": "code",
   "execution_count": null,
   "metadata": {},
   "outputs": [],
   "source": []
  },
  {
   "cell_type": "markdown",
   "metadata": {},
   "source": [
    "TRUE DATA"
   ]
  },
  {
   "cell_type": "code",
   "execution_count": 5,
   "metadata": {},
   "outputs": [],
   "source": [
    "import torch\n",
    "from torch.utils.data import DataLoader, TensorDataset\n",
    "\n",
    "from torchvision import transforms\n",
    "\n",
    "\n",
    "import pandas as pd\n",
    "from pandas import ExcelWriter\n",
    "from pandas import ExcelFile\n",
    "import numpy as np\n",
    "\n",
    "import matplotlib.pyplot as plt\n",
    "import math\n",
    "import sklearn\n",
    "from sklearn.metrics import r2_score\n",
    "import os\n",
    "\n",
    "def get_dataset(name, datatype):\n",
    "    if name == 'LER_data_20191125.xlsx':\n",
    "        return SEMI_data(name, datatype, num_input=4, num_output=8, num_in_cycle=10, num_of_cycle=270, num_train=230, num_val=20, num_test=20, x_cols=\"D:G\", y_cols=\"K:S\", header=2)\n",
    "    elif name == 'LER_data_20191107.xlsx':\n",
    "        return SEMI_data(name, datatype, num_input=4, num_output=8, num_in_cycle=10, num_of_cycle=185, num_train=150, num_val=15 , num_test=20, x_cols=\"D:G\", y_cols=\"K:S\", header=2)\n",
    "    elif name == '2020_LER_20200529_V004.xlsx':\n",
    "        return SEMI_data(name, datatype, num_input=4, num_output=6, num_in_cycle=50, num_of_cycle=72, num_train=50, num_val=10, num_test=12, x_cols=\"D:G\", y_cols=\"H:P\", header=0)\n",
    "    elif name == '2020_LER_20200804_V006.xlsx':\n",
    "        return SEMI_data(name, datatype, num_input=4, num_output=6, num_in_cycle=50, num_of_cycle=200, num_train=150, num_val=20, num_test=30, x_cols=\"B:G\", y_cols=\"H:P\", header=0)\n",
    "        \n",
    "def load_data(file_path, datatype, num_input, num_output, num_in_cycle, num_of_cycle, x_cols, y_cols, header):  \n",
    "    \"\"\"\n",
    "    \n",
    "     1) 20191107 기준 : num_input, num_output, num_of_cycle = 185, num_in_cycle=10, header=2, usecols=\"D:G\" 확인 필수\n",
    "     2) num_input, num_output, num_in_cycle, num_of_cycle 새로 추가함\n",
    "    \n",
    "    \"\"\"\n",
    "    num_total = num_of_cycle*num_in_cycle\n",
    "    \n",
    "    if datatype == 'none':\n",
    "        data_x = pd.read_excel('./'+file_path, sheet_name='uniformly sampled',usecols=x_cols, nrows=num_total+1, header=header)\n",
    "        data_y = pd.read_excel('./'+file_path, sheet_name='uniformly sampled', usecols=y_cols, nrows=num_total+1, header=header)\n",
    "        \n",
    "        # No one-hot encoding \n",
    "        X_all , Y_all = np.zeros((num_total, num_input)), np.zeros((num_total, num_output))\n",
    "        X_per_cycle, Y_per_cycle = np.zeros((num_of_cycle, num_input)), np.zeros((num_of_cycle, num_output))\n",
    "        \n",
    "        # PANDAS TO NUMPY\n",
    "        # X_per_cycle\n",
    "        for i in range(num_of_cycle):\n",
    "            X_per_cycle[i] = data_x[i*num_in_cycle+1:i*num_in_cycle+2].values\n",
    "\n",
    "        # X_all\n",
    "        X_all = np.repeat(X_per_cycle,num_in_cycle,axis=0)\n",
    "        for i in range(X_all.shape[0]):\n",
    "            print(X_all[i])\n",
    "\n",
    "\n",
    "        # Y_all\n",
    "        for i in range(num_total):\n",
    "            Y_all[i] = data_y[i+1:i+2].values\n",
    "\n",
    "        # Y_per_cycle\n",
    "        for i in range(num_of_cycle):\n",
    "            Y_per_cycle[i] = np.mean(Y_all[i*num_in_cycle:(i+1)*num_in_cycle],axis=0)\n",
    "\n",
    "    else:\n",
    "        data_x = pd.read_excel('./'+file_path, sheet_name='Generated DATAs',usecols=x_cols, nrows=num_total+1, header=header)\n",
    "        data_y = pd.read_excel('./'+file_path, sheet_name='Generated DATAs', usecols=y_cols, nrows=num_total+1, header=header)\n",
    "\n",
    "        # one-hot encoding (num_input +1)\n",
    "        X_all , Y_all = np.zeros((num_total, num_input+1)), np.zeros((num_total, num_output))\n",
    "        X_per_cycle, Y_per_cycle = np.zeros((num_of_cycle, num_input+1)), np.zeros((num_of_cycle, num_output))\n",
    " \n",
    "        # DATA_X DATA_Y preprocessing\n",
    "\n",
    "        # 1. N, P to 10, 01 (one-hot encoding)\n",
    "        data_x =pd.get_dummies(data_x, columns=['PNMOS'], dtype=float)\n",
    "\n",
    "        # 2. Remove unrequired column ( Wfin [nm], alpha )\n",
    "        # X: Wfin, alpha\n",
    "        data_x = data_x.drop('Wfin [nm]', axis=1)\n",
    "        data_x = data_x.drop('alpha', axis=1)\n",
    "\n",
    "        # Y: IDLO, IDHI, DIBL\n",
    "        data_y = data_y.drop('IDLO', axis=1)\n",
    "        data_y = data_y.drop('IDHI', axis=1)\n",
    "        data_y = data_y.drop('DIBL(mV)', axis=1)\n",
    "        \n",
    "        # PANDAS TO NUMPY\n",
    "        # X_per_cycle\n",
    "        for i in range(num_of_cycle):    \n",
    "            #print(data_x[i*num_in_cycle:i*num_in_cycle+1])\n",
    "            X_per_cycle[i] = data_x[i*num_in_cycle:i*num_in_cycle+1].values\n",
    "\n",
    "        # X_all\n",
    "        X_all = np.repeat(X_per_cycle,num_in_cycle,axis=0)\n",
    "\n",
    "        # DATA_Y preprcoessing\n",
    "\n",
    "        # Y_all\n",
    "        for i in range(num_total):\n",
    "            Y_all[i] = data_y[i:i+1].values\n",
    "\n",
    "        # Y_per_cycle    \n",
    "        for i in range(num_of_cycle):\n",
    "            Y_per_cycle[i] = np.mean(Y_all[i*num_in_cycle:(i+1)*num_in_cycle],axis=0)\n",
    "\n",
    "        \n",
    "    print(\"============ Data load =============\")\n",
    "    print(\"X data shape: \", X_all.shape, \"X per cycle data shape:\", X_per_cycle.shape)\n",
    "    print(\"Y data shape: \", Y_all.shape, \"Y per cycle data shape:\", Y_per_cycle.shape)  \n",
    "    print(\"any nan in X?: \", np.argwhere(np.isnan(X_all)))\n",
    "    print(\"any nan in Y?: \", np.argwhere(np.isnan(Y_all)))\n",
    "      \n",
    "    return X_all, Y_all, X_per_cycle, Y_per_cycle\n",
    "\n",
    "def split_data(x, y, num_train, num_val, num_test):\n",
    "    \n",
    "    if len(x) == len(y):\n",
    "        print(\"Same number of x data and y data\")\n",
    "        len_total = len(x)\n",
    "    else:\n",
    "        print(\"Different number of x data and y data\")\n",
    "    \n",
    "    x_train, y_train = x[:num_train], y[:num_train]\n",
    "    x_val, y_val = x[num_train:num_train+num_val], y[num_train:num_train+num_val]\n",
    "    x_test, y_test = x[num_train+num_val:], y[num_train+num_val:]\n",
    "    \n",
    "    print(\"============= Data split ==============\")\n",
    "    print(\"train X: {} train Y: {}\".format(x_train.shape, y_train.shape))\n",
    "    print(\"val X: {} val Y: {}\".format(x_val.shape, y_val.shape))\n",
    "    print(\"test X: {} test Y: {}\".format(x_test.shape, y_test.shape))\n",
    "\n",
    "    y_train_mean = np.mean(y_train, axis=0, dtype=np.float32)\n",
    "    y_train_std = np.std(y_train, axis=0, dtype=np.float32)\n",
    "    \n",
    "    x_train_mean = np.mean(x_train, axis=0, dtype=np.float32)\n",
    "    x_train_std = np.std(x_train, axis=0, dtype=np.float32)\n",
    "    \n",
    "    print(\"x mean, std: \", x_train_mean, x_train_std)\n",
    "    print(\"y mean, std: \", y_train_mean, y_train_std)\n",
    "    \n",
    "    return x_train, y_train, x_val, y_val, x_test, y_test\n",
    "    \n",
    "\n",
    "class Dataset():   \n",
    "    def __init__(self, name):\n",
    "        \n",
    "        self.train_X = None\n",
    "        self.val_X = None\n",
    "        self.test_X = None        \n",
    "        \n",
    "        self.train_Y = None\n",
    "        self.val_Y = None\n",
    "        self.test_Y = None\n",
    "        \n",
    "        self.train_X_per_cycle = None\n",
    "        self.val_X_per_cycle = None\n",
    "        self.test_X_per_cycle = None\n",
    "              \n",
    "        self.train_Y_per_cycle = None\n",
    "        self.val_Y_per_cycle = None\n",
    "        self.test_Y_per_cycle = None\n",
    "        \n",
    "        self.train_Y_mean= None\n",
    "        self.val_Y_mean = None\n",
    "        self.test_Y_mean = None\n",
    "        \n",
    "        self.train_Y_noise = None\n",
    "        self.val_Y_noise = None\n",
    "        self.test_Y_noise = None\n",
    "\n",
    "class SEMI_data(Dataset):\n",
    "    def __init__(self, name, datatype, num_input, num_output, num_in_cycle, num_of_cycle, num_train, num_val, num_test, x_cols, y_cols, header):\n",
    "        super().__init__(name)\n",
    "        \n",
    "        # DATASET with no PN type (2019 datas)\n",
    "     \n",
    "        if datatype == 'none':\n",
    "            X_all, Y_all, X_per_cycle, Y_per_cycle = load_data(name, datatype, num_input, num_output, num_in_cycle, num_of_cycle, x_cols, y_cols, header)\n",
    "        \n",
    "            self.train_X, self.train_Y, self.val_X, self.val_Y, self.test_X, self.test_Y = split_data(X_all, Y_all, num_train*num_in_cycle, num_val*num_in_cycle, num_test*num_in_cycle)\n",
    "            self.train_X_per_cycle, self.train_Y_per_cycle, self.val_X_per_cycle, self.val_Y_per_cycle, self.test_X_per_cycle, self.test_Y_per_cycle = split_data(X_per_cycle, Y_per_cycle, num_train, num_val, num_test) \n",
    "            \n",
    "\n",
    "        # DATASET with PN type (2020 datas)\n",
    "        \n",
    "        # use P type\n",
    "        elif datatype == 'p':\n",
    "            X_all_temp, Y_all_temp, X_per_cycle_temp, Y_per_cycle_temp = load_data(name, datatype, num_input, num_output, num_in_cycle, num_of_cycle, x_cols, y_cols, header)\n",
    "            \n",
    "            X_all = np.empty(num_input+1)\n",
    "            Y_all= np.empty(num_output)\n",
    "            \n",
    "            for i in range(num_of_cycle):\n",
    "                X_all = np.vstack((X_all, X_all_temp[num_in_cycle*(2*i+1):num_in_cycle*(2*i+1)+num_in_cycle]))\n",
    "                X_per_cycle = X_per_cycle_temp[1::2]\n",
    "                Y_all = np.vstack((Y_all, Y_all_temp[num_in_cycle*(2*i+1):num_in_cycle*(2*i+1)+num_in_cycle]))\n",
    "                Y_per_cycle = Y_per_cycle_temp[1::2]\n",
    "                \n",
    "            X_all = X_all[1:]\n",
    "            Y_all = Y_all[1:]\n",
    "        \n",
    "            self.train_X, self.train_Y, self.val_X, self.val_Y, self.test_X, self.test_Y = split_data(X_all, Y_all, num_train*num_in_cycle//2, num_val*num_in_cycle//2, num_test*num_in_cycle//2)\n",
    "            self.train_X_per_cycle, self.train_Y_per_cycle, self.val_X_per_cycle, self.val_Y_per_cycle, self.test_X_per_cycle, self.test_Y_per_cycle = split_data(X_per_cycle, Y_per_cycle, num_train//2, num_val//2, num_test//2) \n",
    "            \n",
    "        # use N type\n",
    "        elif datatype == 'n': \n",
    "            X_all_temp, Y_all_temp, X_per_cycle_temp, Y_per_cycle_temp = load_data(name, datatype, num_input, num_output, num_in_cycle, num_of_cycle, x_cols, y_cols, header)\n",
    "            \n",
    "            X_all = np.empty(num_input+1)\n",
    "            Y_all= np.empty(num_output)\n",
    "            \n",
    "            for i in range(num_of_cycle):\n",
    "                X_all = np.vstack((X_all, X_all_temp[num_in_cycle*(2*i):num_in_cycle*(2*i)+num_in_cycle]))\n",
    "                X_per_cycle = X_per_cycle_temp[::2]\n",
    "                Y_all = np.vstack((Y_all, Y_all_temp[num_in_cycle*(2*i):num_in_cycle*(2*i)+num_in_cycle]))\n",
    "                Y_per_cycle = Y_per_cycle_temp[::2]\n",
    "            \n",
    "            X_all = X_all[1:]\n",
    "            Y_all = Y_all[1:]                                       \n",
    "\n",
    "            # print(X_all.shape, Y_all.shape, X_per_cycle.shape, Y_per_cycle.shape)\n",
    "            \n",
    "            self.train_X, self.train_Y, self.val_X, self.val_Y, self.test_X, self.test_Y = split_data(X_all, Y_all, num_train*num_in_cycle//2, num_val*num_in_cycle//2, num_test*num_in_cycle//2)\n",
    "            self.train_X_per_cycle, self.train_Y_per_cycle, self.val_X_per_cycle, self.val_Y_per_cycle, self.test_X_per_cycle, self.test_Y_per_cycle = split_data(X_per_cycle, Y_per_cycle, num_train//2, num_val//2, num_test//2)        \n",
    "        # use both P, N type\n",
    "        else:\n",
    "            \n",
    "            X_all, Y_all, X_per_cycle, Y_per_cycle = load_data(name, datatype, num_input, num_output, num_in_cycle, num_of_cycle, x_cols, y_cols, header)\n",
    "\n",
    "            self.train_X, self.train_Y, self.val_X, self.val_Y, self.test_X, self.test_Y = split_data(X_all, Y_all, num_train*num_in_cycle, num_val*num_in_cycle, num_test*num_in_cycle)\n",
    "            self.train_X_per_cycle, self.train_Y_per_cycle, self.val_X_per_cycle, self.val_Y_per_cycle, self.test_X_per_cycle, self.test_Y_per_cycle = split_data(X_per_cycle, Y_per_cycle, num_train, num_val, num_test)             \n",
    "        \n",
    "        # STEP 2: Split data\n",
    "        \n",
    "        # OPTIONAL: Split data for Y_mean, Y_noise\n",
    "        \n",
    "        self.train_Y_mean = np.repeat(self.train_Y_per_cycle, num_in_cycle, axis=0)\n",
    "        self.val_Y_mean = np.repeat(self.val_Y_per_cycle, num_in_cycle, axis=0)\n",
    "        self.test_Y_mean = np.repeat(self.test_Y_per_cycle, num_in_cycle, axis=0)\n",
    "        \n",
    "        print(\"train_Y_mean shape\", self.train_Y_mean.shape)\n",
    "        print(\"val_Y_mean shape\", self.val_Y_mean.shape)\n",
    "        print(\"test_Y_mean shape\", self.test_Y_mean.shape)\n",
    "        \n",
    "        self.train_Y_noise = self.train_Y - self.train_Y_mean\n",
    "        self.val_Y_noise = self.val_Y - self.val_Y_mean\n",
    "        self.test_Y_noise = self.test_Y - self.test_Y_mean\n",
    "        \n",
    "        print(\"train_Y_noise shape\", self.train_Y_noise.shape)\n",
    "        print(\"val_Y_noise shape\", self.val_Y_noise.shape)\n",
    "        print(\"test_Y_noise shape\", self.test_Y_noise.shape) \n",
    "        \n",
    "        \n",
    "        \n",
    "from scipy import linalg\n",
    "def FID_score(generated_samples, real_samples):\n",
    "    # https://en.wikipedia.org/wiki/Sample_mean_and_covariance\n",
    "    mu_g = np.mean(generated_samples, axis=0, keepdims=True).T\n",
    "    mu_r = np.mean(real_samples, axis=0, keepdims=True).T\n",
    "    cov_g = (generated_samples - np.ones((len(generated_samples),1)).dot(mu_g.T)).T.dot((generated_samples - np.ones((len(generated_samples),1)).dot(mu_g.T)))/(len(generated_samples)-1)\n",
    "    cov_r = (real_samples - np.ones((len(real_samples),1)).dot(mu_r.T)).T.dot((real_samples - np.ones((len(real_samples),1)).dot(mu_r.T)))/(len(real_samples)-1)\n",
    "\n",
    "    \n",
    "    mean_diff = mu_g - mu_r\n",
    "    cov_prod_sqrt = linalg.sqrtm(cov_g.dot(cov_r))\n",
    "    \n",
    "    #numerical instability of linalg.sqrtm\n",
    "    #https://github.com/mseitzer/pytorch-fid/blob/master/pytorch_fid/fid_score.py\n",
    "    eps=1e-6\n",
    "    if not np.isfinite(cov_prod_sqrt).all():\n",
    "        offset = np.eye(cov_g.shape[0]) * eps\n",
    "        cov_prod_sqrt = linalg.sqrtm((cov_g + offset).dot(cov_r + offset))\n",
    "\n",
    "    if np.iscomplexobj(cov_prod_sqrt):\n",
    "        if not np.allclose(np.diagonal(cov_prod_sqrt).imag, 0, atol=1e-3):\n",
    "            m = np.max(np.abs(cov_prod_sqrt.imag))\n",
    "            raise ValueError('Imaginary component {}'.format(m))\n",
    "        cov_prod_sqrt = cov_prod_sqrt.real\n",
    "    \n",
    "    \n",
    "    FID_score = np.sum(mean_diff**2) + np.trace(cov_g + cov_r -2*cov_prod_sqrt)\n",
    "    \n",
    "    \n",
    "    return FID_score"
   ]
  },
  {
   "cell_type": "code",
   "execution_count": 6,
   "metadata": {
    "scrolled": true
   },
   "outputs": [
    {
     "name": "stdout",
     "output_type": "stream",
     "text": [
      "============ Data load =============\n",
      "X data shape:  (10000, 5) X per cycle data shape: (200, 5)\n",
      "Y data shape:  (10000, 6) Y per cycle data shape: (200, 6)\n",
      "any nan in X?:  []\n",
      "any nan in Y?:  [[4450    0]\n",
      " [4450    1]\n",
      " [4450    2]\n",
      " ...\n",
      " [9999    3]\n",
      " [9999    4]\n",
      " [9999    5]]\n",
      "Same number of x data and y data\n",
      "============= Data split ==============\n",
      "train X: (3750, 5) train Y: (3750, 6)\n",
      "val X: (500, 5) val Y: (500, 6)\n",
      "test X: (750, 5) test Y: (750, 6)\n",
      "x mean, std:  [  0.41795138  51.47284    122.14498      1.           0.        ] [ 0.20212363 27.062914   51.619465    0.          0.        ]\n",
      "y mean, std:  [2.2068280e-12 4.1595627e-05 1.6299980e-05 3.4310421e-01 3.5104963e-01\n",
      " 6.1669216e+01] [7.7416974e-13 2.1877843e-06 8.3063077e-07 7.4241282e-03 6.6630146e-03\n",
      " 3.2903570e-01]\n",
      "Same number of x data and y data\n",
      "============= Data split ==============\n",
      "train X: (75, 5) train Y: (75, 6)\n",
      "val X: (10, 5) val Y: (10, 6)\n",
      "test X: (15, 5) test Y: (15, 6)\n",
      "x mean, std:  [  0.41795373  51.47359    122.14604      1.           0.        ] [ 0.20212469 27.062994   51.619827    0.          0.        ]\n",
      "y mean, std:  [2.2068302e-12 4.1595649e-05 1.6299979e-05 3.4310430e-01 3.5105065e-01\n",
      " 6.1669186e+01] [1.2272477e-13 1.0731878e-06 2.8898947e-07 1.8254621e-03 1.9527496e-03\n",
      " 6.2557355e-02]\n",
      "train_Y_mean shape (3750, 6)\n",
      "val_Y_mean shape (500, 6)\n",
      "test_Y_mean shape (750, 6)\n",
      "train_Y_noise shape (3750, 6)\n",
      "val_Y_noise shape (500, 6)\n",
      "test_Y_noise shape (750, 6)\n"
     ]
    }
   ],
   "source": [
    "name = '2020_LER_20200804_V006.xlsx'\n",
    "datatype = 'n'\n",
    "\n",
    "dataset = get_dataset(name, datatype)\n",
    "\n",
    "real = dataset.test_Y\n",
    "mean_real = dataset.test_Y_mean\n",
    "noise_real = dataset.test_Y_noise"
   ]
  },
  {
   "cell_type": "code",
   "execution_count": 7,
   "metadata": {},
   "outputs": [],
   "source": [
    "# base gan\n",
    "# total_name = 'total_date__data_n_model_mlp_gan1_seed_0_lr_5e-05_0.0001_0.0005_hidden_dim_100_100_batch_size_32_epoch_1000_200_noise_d_100_sample_num_50.npy'\n",
    "\n",
    "# # base wgan : \n",
    "# total_name = 'total_date__data_n_model_mlp_wgan_seed_0_lr_5e-05_0.0001_0.0005_hidden_dim_100_100_batch_size_32_epoch_1000_200_noise_d_100_sample_num_50.npy'\n",
    "\n",
    "# # wgan : noise_d 200 #증가별로\n",
    "# total_name = 'total_date_20200825_data_n_model_mlp_wgan_seed_0_lr_5e-05_0.0001_0.0005_hidden_dim_100_100_batch_size_32_epoch_1000_200_noise_d_200_sample_num_50.npy'\n",
    "\n",
    "# # wgan : hidden_dim 200 #증가 굳\n",
    "# total_name = 'total_date_20200825_data_n_model_mlp_wgan_seed_0_lr_5e-05_0.0001_0.0005_hidden_dim_100_200_batch_size_32_epoch_1000_200_noise_d_100_sample_num_50.npy'\n",
    "\n",
    "# # wgan : d_lr 0.001 #증가별로\n",
    "# total_name = 'total_date_20200825_data_n_model_mlp_wgan_seed_0_lr_5e-05_0.0001_0.001_hidden_dim_100_100_batch_size_32_epoch_1000_200_noise_d_100_sample_num_50.npy'\n",
    "\n",
    "# # wgan : g_lr 0.0005 #증가별로\n",
    "# total_name = 'total_date_20200825_data_n_model_mlp_wgan_seed_0_lr_5e-05_0.0005_0.0005_hidden_dim_100_100_batch_size_32_epoch_1000_200_noise_d_100_sample_num_50.npy'\n",
    "\n",
    "# # wgan : 배치 128 #증가별로\n",
    "# total_name = 'total_date_20200825_data_n_model_mlp_wgan_seed_0_lr_5e-05_0.0001_0.0005_hidden_dim_100_100_batch_size_128_epoch_1000_200_noise_d_100_sample_num_50.npy'\n",
    "\n",
    "# wgan : epoch 400 #증가별로\n",
    "# total_name = 'total_date_20200825_data_n_model_mlp_wgan_seed_0_lr_5e-05_0.0001_0.0005_hidden_dim_100_100_batch_size_32_epoch_1000_400_noise_d_100_sample_num_50.npy'\n",
    "\n",
    "# wgan : noise_d 50 #감소 굳\n",
    "# total_name = 'total_date_20200825_data_n_model_mlp_wgan_seed_0_lr_5e-05_0.0001_0.0005_hidden_dim_100_100_batch_size_32_epoch_1000_200_noise_d_50_sample_num_50.npy'\n",
    "\n",
    "# wgan : hidden_dim 50 #감소 별로\n",
    "# total_name = 'total_date_20200825_data_n_model_mlp_wgan_seed_0_lr_5e-05_0.0001_0.0005_hidden_dim_100_50_batch_size_32_epoch_1000_200_noise_d_100_sample_num_50.npy'\n",
    "\n",
    "# wgan : lr_d 0.0001 #감소 별로\n",
    "# total_name = 'total_date_20200825_data_n_model_mlp_wgan_seed_0_lr_5e-05_0.0001_0.0001_hidden_dim_100_100_batch_size_32_epoch_1000_200_noise_d_100_sample_num_50.npy'\n",
    "\n",
    "# wgan : lr_g 0.0005 #감소 굳\n",
    "# total_name = 'total_date_20200825_data_n_model_mlp_wgan_seed_0_lr_5e-05_5e-05_0.0005_hidden_dim_100_100_batch_size_32_epoch_1000_200_noise_d_100_sample_num_50.npy'\n",
    "\n",
    "# wgan : 좋은거 조합 별로\n",
    "# total_name = 'total_date_20200825_data_n_model_mlp_wgan_seed_0_lr_5e-05_0.0001_0.0005_hidden_dim_100_100_batch_size_16_epoch_1000_200_noise_d_100_sample_num_50.npy'\n",
    "\n",
    "# wgan : hidden dim 300 증가\n",
    "# total_name = 'total_date_20200825_data_n_model_mlp_wgan_seed_0_lr_5e-05_0.0001_0.0005_hidden_dim_100_300_batch_size_32_epoch_1000_200_noise_d_100_sample_num_50.npy'\n",
    "\n",
    "\n",
    "total_name = 'total_date_20200825_data_n_model_mlp_wgan_seed_0_lr_5e-05_0.0001_0.0005_hidden_dim_100_300_batch_size_32_epoch_1000_200_noise_d_100_sample_num_50.npy'\n",
    "\n",
    "total_result = np.load(total_name, allow_pickle=True)"
   ]
  },
  {
   "cell_type": "code",
   "execution_count": 9,
   "metadata": {},
   "outputs": [],
   "source": [
    "# FID_score(total_result, real)"
   ]
  },
  {
   "cell_type": "code",
   "execution_count": 10,
   "metadata": {},
   "outputs": [],
   "source": [
    "# # for i in range(len(mean_real)):\n",
    "# #    print(mean_real[i])\n",
    "\n",
    "# for j in range(len(real)):\n",
    "#     print(real)"
   ]
  },
  {
   "cell_type": "code",
   "execution_count": 11,
   "metadata": {},
   "outputs": [
    {
     "data": {
      "image/png": "[encoded data removed]",
      "text/plain": [
       "<Figure size 432x288 with 1 Axes>"
      ]
     },
     "metadata": {
      "needs_background": "light"
     },
     "output_type": "display_data"
    },
    {
     "data": {
      "image/png": "[encoded data removed]",
      "text/plain": [
       "<Figure size 432x288 with 1 Axes>"
      ]
     },
     "metadata": {
      "needs_background": "light"
     },
     "output_type": "display_data"
    },
    {
     "data": {
      "image/png": "[encoded data removed]",
      "text/plain": [
       "<Figure size 432x288 with 1 Axes>"
      ]
     },
     "metadata": {
      "needs_background": "light"
     },
     "output_type": "display_data"
    },
    {
     "data": {
      "image/png": "[encoded data removed]",
      "text/plain": [
       "<Figure size 432x288 with 1 Axes>"
      ]
     },
     "metadata": {
      "needs_background": "light"
     },
     "output_type": "display_data"
    },
    {
     "data": {
      "image/png": "[encoded data removed]",
      "text/plain": [
       "<Figure size 432x288 with 1 Axes>"
      ]
     },
     "metadata": {
      "needs_background": "light"
     },
     "output_type": "display_data"
    },
    {
     "data": {
      "image/png": "[encoded data removed]",
      "text/plain": [
       "<Figure size 432x288 with 1 Axes>"
      ]
     },
     "metadata": {
      "needs_background": "light"
     },
     "output_type": "display_data"
    },
    {
     "data": {
      "image/png": "[encoded data removed]",
      "text/plain": [
       "<Figure size 432x288 with 1 Axes>"
      ]
     },
     "metadata": {
      "needs_background": "light"
     },
     "output_type": "display_data"
    },
    {
     "data": {
      "image/png": "[encoded data removed]",
      "text/plain": [
       "<Figure size 432x288 with 1 Axes>"
      ]
     },
     "metadata": {
      "needs_background": "light"
     },
     "output_type": "display_data"
    },
    {
     "data": {
      "image/png": "[encoded data removed]",
      "text/plain": [
       "<Figure size 432x288 with 1 Axes>"
      ]
     },
     "metadata": {
      "needs_background": "light"
     },
     "output_type": "display_data"
    },
    {
     "data": {
      "image/png": "[encoded data removed]",
      "text/plain": [
       "<Figure size 432x288 with 1 Axes>"
      ]
     },
     "metadata": {
      "needs_background": "light"
     },
     "output_type": "display_data"
    },
    {
     "data": {
      "image/png": "[encoded data removed]",
      "text/plain": [
       "<Figure size 432x288 with 1 Axes>"
      ]
     },
     "metadata": {
      "needs_background": "light"
     },
     "output_type": "display_data"
    },
    {
     "data": {
      "image/png": "[encoded data removed]",
      "text/plain": [
       "<Figure size 432x288 with 1 Axes>"
      ]
     },
     "metadata": {
      "needs_background": "light"
     },
     "output_type": "display_data"
    },
    {
     "data": {
      "image/png": "[encoded data removed]",
      "text/plain": [
       "<Figure size 432x288 with 1 Axes>"
      ]
     },
     "metadata": {
      "needs_background": "light"
     },
     "output_type": "display_data"
    },
    {
     "data": {
      "image/png": "[encoded data removed]",
      "text/plain": [
       "<Figure size 432x288 with 1 Axes>"
      ]
     },
     "metadata": {
      "needs_background": "light"
     },
     "output_type": "display_data"
    },
    {
     "data": {
      "image/png": "[encoded data removed]",
      "text/plain": [
       "<Figure size 432x288 with 1 Axes>"
      ]
     },
     "metadata": {
      "needs_background": "light"
     },
     "output_type": "display_data"
    }
   ],
   "source": [
    "sample_num = 50\n",
    "\n",
    "factor = sample_num // 50\n",
    "for idx in range(15):\n",
    "    start = 50 * idx\n",
    "    end = 50 * (idx+1)\n",
    "    plt.scatter(real[start*factor:end*factor,0],real[start*factor:end*factor,2])\n",
    "    plt.scatter(total_result[start*factor:end*factor,0],total_result[start*factor:end*factor,2])\n",
    "    plt.xlim(5e-12, 1e-13)\n",
    "    plt.ylim(1e-5, 2e-5)\n",
    "    plt.show()"
   ]
  },
  {
   "cell_type": "code",
   "execution_count": null,
   "metadata": {},
   "outputs": [],
   "source": []
  },
  {
   "cell_type": "code",
   "execution_count": null,
   "metadata": {},
   "outputs": [],
   "source": [
    "total_result"
   ]
  },
  {
   "cell_type": "code",
   "execution_count": null,
   "metadata": {},
   "outputs": [],
   "source": []
  }
 ],
 "metadata": {
  "kernelspec": {
   "display_name": "Python [conda env:root] *",
   "language": "python",
   "name": "conda-root-py"
  },
  "language_info": {
   "codemirror_mode": {
    "name": "ipython",
    "version": 3
   },
   "file_extension": ".py",
   "mimetype": "text/x-python",
   "name": "python",
   "nbconvert_exporter": "python",
   "pygments_lexer": "ipython3",
   "version": "3.6.6"
  }
 },
 "nbformat": 4,
 "nbformat_minor": 4
}
