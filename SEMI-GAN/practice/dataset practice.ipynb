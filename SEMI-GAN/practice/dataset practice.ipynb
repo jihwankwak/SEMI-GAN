{
 "cells": [
  {
   "cell_type": "code",
   "execution_count": 90,
   "metadata": {},
   "outputs": [
    {
     "name": "stdout",
     "output_type": "stream",
     "text": [
      "(10000, 5) (10000, 6) (200, 5) (200, 6)\n"
     ]
    }
   ],
   "source": [
    "import pandas as pd\n",
    "import numpy as np\n",
    "\n",
    "file_path = '2020_LER_20200804_V006.xlsx'\n",
    "datatype = 'n'\n",
    "num_input=4\n",
    "num_output=6\n",
    "num_in_cycle=50\n",
    "num_of_cycle=200\n",
    "num_total = num_in_cycle * num_of_cycle\n",
    "num_train=75\n",
    "num_val=10\n",
    "num_test=15\n",
    "x_cols=\"B:G\"\n",
    "y_cols=\"H:P\"\n",
    "header=0\n",
    "\n",
    "\n",
    "data_x = pd.read_excel('./'+file_path, sheet_name='Generated DATAs',usecols=x_cols, nrows=num_total+1, header=header)\n",
    "data_y = pd.read_excel('./'+file_path, sheet_name='Generated DATAs', usecols=y_cols, nrows=num_total+1, header=header)\n",
    "\n",
    "X_all , Y_all = np.zeros((num_total, num_input+1)), np.zeros((num_total, num_output)) # onehot encoding\n",
    "X_per_cycle, Y_per_cycle = np.zeros((num_of_cycle, num_input+1)), np.zeros((num_of_cycle, num_output))\n",
    "\n",
    "# DATA_X preprocessing\n",
    "\n",
    "# 1. N, P to 10, 01 (one-hot encoding)\n",
    "data_x =pd.get_dummies(data_x, columns=['PNMOS'])\n",
    "\n",
    "# 2. Remove unrequired column ( Wfin [nm], alpha )\n",
    "\n",
    "# X: Wfin, alpha\n",
    "data_x = data_x.drop('Wfin [nm]', axis=1)\n",
    "data_x = data_x.drop('alpha', axis=1)\n",
    "\n",
    "# Y: \n",
    "data_y = data_y.drop('IDLO', axis=1)\n",
    "data_y = data_y.drop('IDHI', axis=1)\n",
    "data_y = data_y.drop('DIBL(mV)', axis=1)\n",
    "\n",
    "# X_per_cycle\n",
    "for i in range(num_of_cycle):    \n",
    "    #print(data_x[i*num_in_cycle:i*num_in_cycle+1])\n",
    "    X_per_cycle[i] = data_x[i*num_in_cycle:i*num_in_cycle+1].values\n",
    "\n",
    "# X_all\n",
    "X_all = np.repeat(X_per_cycle,num_in_cycle,axis=0)\n",
    "\n",
    "# DATA_Y preprcoessing\n",
    "\n",
    "# Y_all\n",
    "for i in range(num_total):\n",
    "    Y_all[i] = data_y[i:i+1].values\n",
    "    \n",
    "# Y_per_cycle    \n",
    "for i in range(num_of_cycle):\n",
    "    Y_per_cycle[i] = np.mean(Y_all[i*num_in_cycle:(i+1)*num_in_cycle],axis=0)\n",
    "    \n",
    "print(X_all.shape, Y_all.shape, X_per_cycle.shape, Y_per_cycle.shape)\n"
   ]
  }
 ],
 "metadata": {
  "kernelspec": {
   "display_name": "Python 3",
   "language": "python",
   "name": "python3"
  },
  "language_info": {
   "codemirror_mode": {
    "name": "ipython",
    "version": 3
   },
   "file_extension": ".py",
   "mimetype": "text/x-python",
   "name": "python",
   "nbconvert_exporter": "python",
   "pygments_lexer": "ipython3",
   "version": "3.7.6"
  }
 },
 "nbformat": 4,
 "nbformat_minor": 2
}
